{
  "nbformat": 4,
  "nbformat_minor": 0,
  "metadata": {
    "colab": {
      "provenance": [],
      "toc_visible": true
    },
    "kernelspec": {
      "name": "python3",
      "display_name": "Python 3"
    },
    "language_info": {
      "name": "python"
    }
  },
  "cells": [
    {
      "cell_type": "markdown",
      "source": [
        "# <center><b><font color=\"red\">PyTorch Going Modular</font></b></center>"
      ],
      "metadata": {
        "id": "DaMJLsmkFlQO"
      }
    },
    {
      "cell_type": "markdown",
      "source": [
        "## **Script Mode**"
      ],
      "metadata": {
        "id": "pWdSCL-EOdSS"
      }
    },
    {
      "cell_type": "code",
      "execution_count": null,
      "metadata": {
        "id": "vnD9aZENE8vt",
        "colab": {
          "base_uri": "https://localhost:8080/"
        },
        "outputId": "b7e21a6d-8de4-40bd-a3f4-35aab8bc0f53"
      },
      "outputs": [
        {
          "output_type": "stream",
          "name": "stdout",
          "text": [
            "Writing hello_world.py\n"
          ]
        }
      ],
      "source": [
        "# Create a Python file called hello_world.py\n",
        "%%writefile hello_world.py\n",
        "print(\"I Love PyTorch\")"
      ]
    },
    {
      "cell_type": "code",
      "source": [
        "# Run this Python file\n",
        "!python hello_world.py"
      ],
      "metadata": {
        "colab": {
          "base_uri": "https://localhost:8080/"
        },
        "id": "LJfs9Yq0OTja",
        "outputId": "8ddfd669-2770-4df1-de7b-6d7be62ff81c"
      },
      "execution_count": null,
      "outputs": [
        {
          "output_type": "stream",
          "name": "stdout",
          "text": [
            "I Love PyTorch\n"
          ]
        }
      ]
    },
    {
      "cell_type": "code",
      "source": [
        "! rm -rf hello_world.py"
      ],
      "metadata": {
        "id": "HhZwf1J6OE7L"
      },
      "execution_count": null,
      "outputs": []
    },
    {
      "cell_type": "markdown",
      "source": [
        "## **1. Get data**"
      ],
      "metadata": {
        "id": "jKgQxoCwlBzq"
      }
    },
    {
      "cell_type": "code",
      "source": [
        "import requests\n",
        "import zipfile\n",
        "from pathlib import Path\n",
        "\n",
        "# Step 1: Set up the path\n",
        "url = \"https://github.com/mohd-faizy/PyTorch-Essentials/raw/main/_datasets/pizza_steak_sushi.zip\"\n",
        "image_path = Path(\"data/pizza_steak_sushi\")\n",
        "image_path.mkdir(parents=True, exist_ok=True)\n",
        "zip_path = image_path.parent / \"pizza_steak_sushi.zip\"\n",
        "\n",
        "# Step 2: Download the zip file containing the data\n",
        "zip_path.write_bytes(requests.get(url).content)\n",
        "\n",
        "# Step 3: Unzip the downloaded file into the image directory\n",
        "with zipfile.ZipFile(zip_path, \"r\") as zip_ref:\n",
        "    zip_ref.extractall(image_path)"
      ],
      "metadata": {
        "id": "AECZFkSclEbf"
      },
      "execution_count": null,
      "outputs": []
    },
    {
      "cell_type": "markdown",
      "source": [
        "## **2. Create Datasets and DataLoaders**"
      ],
      "metadata": {
        "id": "qV9wAAGWlE3I"
      }
    },
    {
      "cell_type": "code",
      "source": [],
      "metadata": {
        "id": "MHLUHhc_lNmt"
      },
      "execution_count": null,
      "outputs": []
    },
    {
      "cell_type": "markdown",
      "source": [
        "## **3. Making a model (TinyVGG)**\n",
        "\n",
        "\n"
      ],
      "metadata": {
        "id": "DRlNtUaBmYIe"
      }
    },
    {
      "cell_type": "code",
      "source": [],
      "metadata": {
        "id": "ncPqjGJ1mZnu"
      },
      "execution_count": null,
      "outputs": []
    },
    {
      "cell_type": "markdown",
      "source": [
        "## **4. Creating `train_step()` and `test_step()` functions and `train()` to combine them.**"
      ],
      "metadata": {
        "id": "AWvHhJIYmZ5B"
      }
    },
    {
      "cell_type": "code",
      "source": [],
      "metadata": {
        "id": "M_FIPuu8mlqe"
      },
      "execution_count": null,
      "outputs": []
    },
    {
      "cell_type": "markdown",
      "source": [
        "## **5. Creating a function to save the model**"
      ],
      "metadata": {
        "id": "uJYIOLI3mmCX"
      }
    },
    {
      "cell_type": "code",
      "source": [],
      "metadata": {
        "id": "TIdye3UznqKG"
      },
      "execution_count": null,
      "outputs": []
    },
    {
      "cell_type": "markdown",
      "source": [
        "## **6. Train, evaluate and save the model**"
      ],
      "metadata": {
        "id": "AVYHNXbinqiu"
      }
    },
    {
      "cell_type": "code",
      "source": [],
      "metadata": {
        "id": "SYjRx5IFntKe"
      },
      "execution_count": null,
      "outputs": []
    }
  ]
}