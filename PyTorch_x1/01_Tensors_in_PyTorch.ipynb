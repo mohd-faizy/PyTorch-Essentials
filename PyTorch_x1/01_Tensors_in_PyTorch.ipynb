{
  "cells": [
    {
      "cell_type": "markdown",
      "metadata": {
        "id": "e7zFO-h2A_sk"
      },
      "source": [
        "# **Tensor in PyTorch(Basics)**\n",
        "\n"
      ]
    },
    {
      "cell_type": "markdown",
      "metadata": {
        "id": "SsXvdKypJfLE"
      },
      "source": [
        "## **Tensors**\n",
        "\n",
        "⭕ **1D Tensor (Vector)**  \n",
        "- **Example**: A list of daily temperatures.\n",
        "- **Data:** `[15°C, 16°C, 18°C, ..., 12°C]`\n",
        "- **Dimensionality**: `[time]`.  \n",
        "- **Typical Values in TensorFlow/PyTorch**:  \n",
        "  - Example: `[7]` for a week of daily temperature readings.  \n",
        "  - Example: `[1000]` for 1D data with 1000 features (e.g., sensor readings).  \n",
        "\n",
        "---\n",
        "\n",
        "⭕ **2D Tensor (Matrix)**  \n",
        "- **Example**: Grayscale image.  \n",
        "- **Dimensionality**: `[height, width]`.  \n",
        "- **Typical Values in TensorFlow/PyTorch**:  \n",
        "  - Example: `[28, 28]` for a standard MNIST grayscale image.  \n",
        "  - Example: `[512, 512]` for high-resolution grayscale images.\n",
        "---\n",
        "\n",
        "⭕ **3D Tensor**  \n",
        "- **Example**: RGB Image.  \n",
        "- **Dimensionality**: `[height, width, color channels]`.  \n",
        "- **Typical Values in TensorFlow/PyTorch**:  \n",
        "  - Example: `[224, 224, 3]` for a single color image used in models like ResNet.  \n",
        "  - Example: `[64, 64, 3]` for smaller, cropped images.  \n",
        "\n",
        "⭐**3D Tensor in NLP**:\n",
        "- **Input Sentences:**\n",
        "    - Hello jhon  \n",
        "    - Hello alex  \n",
        "    - Hello sara  \n",
        "\n",
        "- **Vocabulary**: `[\"Hello\", \"jhon\", \"alex\", \"sara\"]`.\n",
        "\n",
        "- **One-Hot Encoding**: Each word is represented as a vector of length 4 (vocabulary size):\n",
        "    - \"Hello\" → `[1, 0, 0, 0]`  \n",
        "    - \"jhon\" → `[0, 1, 0, 0]`  \n",
        "    - \"alex\" → `[0, 0, 1, 0]`  \n",
        "    - \"sara\" → `[0, 0, 0, 1]`  \n",
        "\n",
        "- **Tensor Shape**: `(3, 2, 4)`  \n",
        "    - `3`: Number of sentences.  \n",
        "    - `2`: Number of words per sentence.  \n",
        "    - `4`: Vocabulary size (features for one-hot encoding).  \n",
        "\n",
        "- **Tensor Representation**:  \n",
        "    ```python\n",
        "    [\n",
        "        [[1, 0, 0, 0], [0, 1, 0, 0]],  # Sentence 1: \"Hello jhon\"\n",
        "        [[1, 0, 0, 0], [0, 0, 1, 0]],  # Sentence 2: \"Hello alex\"\n",
        "        [[1, 0, 0, 0], [0, 0, 0, 1]]   # Sentence 3: \"Hello sara\"\n",
        "    ]\n",
        "    ```\n",
        "\n",
        "- **Chart Representation**:\n",
        "\n",
        "| **Word**    | Hello | jhon | alex | sara |\n",
        "|-------------|-------|------|------|------|\n",
        "| Sentence 1  |   1   |   1  |   0  |   0  |\n",
        "| Sentence 2  |   1   |   0  |   1  |   0  |\n",
        "| Sentence 3  |   1   |   0  |   0  |   1  |\n",
        "\n",
        "\n",
        "⭐**3D Tensor for Time Series Data: Stock Market Example**\n",
        "\n",
        "- **Example Scenario**:\n",
        "We are tracking the stock prices of **3 companies** over **7 days**, with the following features:  \n",
        "    - **Open Price**  \n",
        "    - **Close Price**  \n",
        "    - **Volume Traded**\n",
        "\n",
        "\n",
        "- **Data Representation**:\n",
        "    1. **Companies (Samples)**: 3 (Company A, Company B, Company C).  \n",
        "    2. **Time Steps (Days)**: 7 days.  \n",
        "    3. **Features (Measurements)**: 3 (Open Price, Close Price, Volume Traded).\n",
        "\n",
        "\n",
        "- **Tensor Shape**:\n",
        "    - **Shape**: `(3, 7, 3)`  \n",
        "        - `3`: Number of companies (samples).  \n",
        "        - `7`: Number of days (time steps).  \n",
        "        - `3`: Number of features (Open Price, Close Price, Volume Traded).\n",
        "\n",
        "\n",
        "- **Example Tensor**:\n",
        "    ```python\n",
        "    [\n",
        "        # Company A\n",
        "        [\n",
        "            [100, 105, 5000],  # Day 1: Open=100, Close=105, Volume=5000\n",
        "            [102, 108, 5200],  # Day 2\n",
        "            ...\n",
        "            [110, 115, 5500]   # Day 7\n",
        "        ],\n",
        "\n",
        "        # Company B\n",
        "        [\n",
        "            [200, 210, 7000],  # Day 1\n",
        "            [205, 215, 7200],  # Day 2\n",
        "            ...\n",
        "            [220, 230, 7500]   # Day 7\n",
        "        ],\n",
        "\n",
        "        # Company C\n",
        "        [\n",
        "            [300, 310, 9000],  # Day 1\n",
        "            [310, 320, 9200],  # Day 2\n",
        "            ...\n",
        "            [330, 340, 9500]   # Day 7\n",
        "        ]\n",
        "    ]\n",
        "    ```\n",
        "\n",
        "---\n",
        "\n",
        "⭕ **4D Tensor**  \n",
        "- **Example**: Batch of images for machine learning, computer Vision.  \n",
        "- **Dimensionality**: `[batch size, height, width, color channels]`.  \n",
        "- **Typical Values in TensorFlow/PyTorch**:  \n",
        "  - Example: `[32, 28, 28, 1]` for a batch of 32 grayscale MNIST images.  \n",
        "  - Example: `[64, 224, 224, 3]` for a batch of 64 RGB images.  \n",
        "\n",
        "---\n",
        "\n",
        "⭕ **5D Tensor**  \n",
        "- **Example**: Video data for machine learning.  \n",
        "- **Dimensionality**: `[batch size, frames, height, width, color channels]`.  \n",
        "- **Typical Values in TensorFlow/PyTorch**:  \n",
        "  - Example: `[16, 10, 224, 224, 3]` for a batch of 16 videos, each with 10 frames of size `224×224` with 3 color channels.  \n",
        "  - Example: `[8, 30, 64, 64, 1]` for 8 videos with 30 frames of size `64×64` in grayscale.  \n",
        "\n",
        "---\n",
        "\n",
        "⭕ **Summary Table**  \n",
        "\n",
        "| **Tensor** | **Real-Life Example**             | **Dimensionality**                            | **Typical Values**                          |\n",
        "|------------|-----------------------------------|-----------------------------------------------|---------------------------------------------|\n",
        "| 1D         | Temperature readings over time   | `[time]`                                      | `[7]`, `[1000]`                             |\n",
        "| 2D         | Grayscale image                  | `[height, width]`                             | `[28, 28]`, `[512, 512]`                    |\n",
        "| 3D         | RGB image                        | `[height, width, color channels]`            | `[224, 224, 3]`, `[64, 64, 3]`             |\n",
        "| 4D         | Batch of images                  | `[batch, height, width, color channels]`     | `[32, 28, 28, 1]`, `[64, 224, 224, 3]`     |\n",
        "| 5D         | Video data                       | `[batch, time, height, width, color channels]`| `[16, 10, 224, 224, 3]`, `[8, 30, 64, 64, 1]`|  "
      ]
    },
    {
      "cell_type": "code",
      "execution_count": 1,
      "metadata": {
        "colab": {
          "base_uri": "https://localhost:8080/"
        },
        "id": "fXCgw5tyOfMQ",
        "outputId": "90994b7c-b048-4248-bb59-610ddf506347"
      },
      "outputs": [
        {
          "name": "stdout",
          "output_type": "stream",
          "text": [
            "1D Tensor:\n",
            " [1 2]\n",
            "Shape: (2,)\n",
            "Size: 2\n",
            "Number of dimensions: 1\n",
            "------------------------------\n",
            "\n",
            "2D Tensor:\n",
            " [[1 2]\n",
            " [3 4]]\n",
            "Shape: (2, 2)\n",
            "Size: 4\n",
            "Number of dimensions: 2\n",
            "------------------------------\n",
            "\n",
            "3D Tensor:\n",
            " [[[1 2]\n",
            "  [3 4]]\n",
            "\n",
            " [[5 6]\n",
            "  [7 8]]]\n",
            "Shape: (2, 2, 2)\n",
            "Size: 8\n",
            "Number of dimensions: 3\n",
            "------------------------------\n",
            "\n",
            "4D Tensor:\n",
            " [[[[ 1  2]\n",
            "   [ 3  4]]\n",
            "\n",
            "  [[ 5  6]\n",
            "   [ 7  8]]]\n",
            "\n",
            "\n",
            " [[[ 9 10]\n",
            "   [11 12]]\n",
            "\n",
            "  [[13 14]\n",
            "   [15 16]]]]\n",
            "Shape: (2, 2, 2, 2)\n",
            "Size: 16\n",
            "Number of dimensions: 4\n",
            "------------------------------\n",
            "\n",
            "5D Tensor:\n",
            " [[[[[ 1  2]\n",
            "    [ 3  4]]\n",
            "\n",
            "   [[ 5  6]\n",
            "    [ 7  8]]]\n",
            "\n",
            "\n",
            "  [[[ 9 10]\n",
            "    [11 12]]\n",
            "\n",
            "   [[13 14]\n",
            "    [15 16]]]]\n",
            "\n",
            "\n",
            "\n",
            " [[[[17 18]\n",
            "    [19 20]]\n",
            "\n",
            "   [[21 22]\n",
            "    [23 24]]]\n",
            "\n",
            "\n",
            "  [[[25 26]\n",
            "    [27 28]]\n",
            "\n",
            "   [[29 30]\n",
            "    [31 32]]]]]\n",
            "Shape: (2, 2, 2, 2, 2)\n",
            "Size: 32\n",
            "Number of dimensions: 5\n"
          ]
        }
      ],
      "source": [
        "import numpy as np\n",
        "\n",
        "# 1D Tensor or 1D array or vector\n",
        "tensor_1d = np.array([1, 2])\n",
        "print(\"1D Tensor:\\n\", tensor_1d)\n",
        "print(\"Shape:\", tensor_1d.shape)\n",
        "print(\"Size:\", tensor_1d.size)\n",
        "print(\"Number of dimensions:\", tensor_1d.ndim)\n",
        "print('-'*30)\n",
        "\n",
        "# 2D Tensor\n",
        "tensor_2d = np.array([[1, 2],\n",
        "                      [3, 4]])\n",
        "print(\"\\n2D Tensor:\\n\", tensor_2d)\n",
        "print(\"Shape:\", tensor_2d.shape)\n",
        "print(\"Size:\", tensor_2d.size)\n",
        "print(\"Number of dimensions:\", tensor_2d.ndim)\n",
        "print('-'*30)\n",
        "\n",
        "# 3D Tensor\n",
        "tensor_3d = np.array([[[1, 2],\n",
        "                       [3, 4]],\n",
        "                      [[5, 6],\n",
        "                       [7, 8]]])\n",
        "print(\"\\n3D Tensor:\\n\", tensor_3d)\n",
        "print(\"Shape:\", tensor_3d.shape)\n",
        "print(\"Size:\", tensor_3d.size)\n",
        "print(\"Number of dimensions:\", tensor_3d.ndim)\n",
        "print('-'*30)\n",
        "\n",
        "# 4D Tensor\n",
        "tensor_4d = np.array([[[[1, 2], [3, 4]],\n",
        "                       [[5, 6], [7, 8]]],\n",
        "                      [[[9, 10], [11, 12]],\n",
        "                       [[13, 14], [15, 16]]]])\n",
        "print(\"\\n4D Tensor:\\n\", tensor_4d)\n",
        "print(\"Shape:\", tensor_4d.shape)\n",
        "print(\"Size:\", tensor_4d.size)\n",
        "print(\"Number of dimensions:\", tensor_4d.ndim)\n",
        "print('-'*30)\n",
        "\n",
        "# 5D Tensor\n",
        "tensor_5d = np.array([[[[[1, 2], [3, 4]],\n",
        "                        [[5, 6], [7, 8]]],\n",
        "                       [[[9, 10], [11, 12]],\n",
        "                        [[13, 14], [15, 16]]]],\n",
        "                     [[[[17, 18], [19, 20]],\n",
        "                       [[21, 22], [23, 24]]],\n",
        "                      [[[25, 26], [27, 28]],\n",
        "                       [[29, 30], [31, 32]]]]])\n",
        "print(\"\\n5D Tensor:\\n\", tensor_5d)\n",
        "print(\"Shape:\", tensor_5d.shape)\n",
        "print(\"Size:\", tensor_5d.size)\n",
        "print(\"Number of dimensions:\", tensor_5d.ndim)"
      ]
    },
    {
      "cell_type": "markdown",
      "metadata": {
        "id": "MaIUxvnsIESk"
      },
      "source": [
        "⭕**Rank, Axis and Shape:**\n",
        "\n",
        "- **Number of Axis = Rank = Number of Dimension**\n",
        "\n"
      ]
    },
    {
      "cell_type": "markdown",
      "metadata": {
        "id": "i6IkaccLPUkd"
      },
      "source": [
        "⭕ **PyTorch**"
      ]
    },
    {
      "cell_type": "code",
      "execution_count": 2,
      "metadata": {
        "colab": {
          "base_uri": "https://localhost:8080/"
        },
        "id": "zvytuEk2EKBn",
        "outputId": "fc71c90b-4e07-4032-b815-7974057aa6fe"
      },
      "outputs": [
        {
          "name": "stdout",
          "output_type": "stream",
          "text": [
            "2.6.0+cu124\n"
          ]
        }
      ],
      "source": [
        "import torch\n",
        "print(torch.__version__)"
      ]
    },
    {
      "cell_type": "code",
      "execution_count": 3,
      "metadata": {
        "colab": {
          "base_uri": "https://localhost:8080/"
        },
        "id": "W8o-1cUl4M2x",
        "outputId": "c7a6b54e-73dc-4fbe-808e-bb872f579fb7"
      },
      "outputs": [
        {
          "name": "stdout",
          "output_type": "stream",
          "text": [
            "GPU is available!\n",
            "Using GPU: Tesla T4\n"
          ]
        }
      ],
      "source": [
        "# Check if CUDA (GPU support) is available\n",
        "if torch.cuda.is_available():\n",
        "    print(\"GPU is available!\")\n",
        "    # Print the name of the GPU being used\n",
        "    print(f\"Using GPU: {torch.cuda.get_device_name(0)}\")\n",
        "else:\n",
        "    print(\"GPU not available. Using CPU.\")"
      ]
    },
    {
      "cell_type": "markdown",
      "metadata": {
        "id": "YbMmocC0FPfV"
      },
      "source": [
        "The `0` in `torch.cuda.get_device_name(0)` refers to the index of the GPU device in a multi-GPU setup. In PyTorch, if you have multiple GPUs available, they are indexed starting from 0 (e.g., 0, 1, 2, etc.).\n",
        "\n",
        "⭕**Single GPU** $\\rightarrow$ If we have only one GPU, the index\n",
        " is `0`."
      ]
    },
    {
      "cell_type": "code",
      "execution_count": 4,
      "metadata": {
        "colab": {
          "base_uri": "https://localhost:8080/"
        },
        "id": "EriYQl61DsHs",
        "outputId": "7d5dbd43-ba9f-44ae-b18d-409f84b1a366"
      },
      "outputs": [
        {
          "name": "stdout",
          "output_type": "stream",
          "text": [
            "Tesla T4\n"
          ]
        }
      ],
      "source": [
        "print(torch.cuda.get_device_name(0)) # Output the name of the single CPU"
      ]
    },
    {
      "cell_type": "markdown",
      "metadata": {
        "id": "AKuJXgWzF2LG"
      },
      "source": [
        "⭕**Multiple GPUs**"
      ]
    },
    {
      "cell_type": "code",
      "execution_count": 5,
      "metadata": {
        "colab": {
          "base_uri": "https://localhost:8080/"
        },
        "id": "uluH8iSzD_xI",
        "outputId": "b834cf8b-cfd5-4ff7-8f94-fdd1e63fdba5"
      },
      "outputs": [
        {
          "name": "stdout",
          "output_type": "stream",
          "text": [
            "Only one GPU available\n"
          ]
        }
      ],
      "source": [
        "if torch.cuda.device_count() > 1:\n",
        "    for i in range(torch.cuda.device_count()):\n",
        "        print(f\"GPU {i} : {torch.cuda.get_device_name(i)}\")\n",
        "else:\n",
        "    print(\"Only one GPU available\")"
      ]
    },
    {
      "cell_type": "markdown",
      "metadata": {
        "id": "MpUHx_epGP2N"
      },
      "source": [
        "⭕**Why use different indices?**\n",
        "\n",
        "- **Model Parallelism**: Distribute different parts of a model across multiple GPUs.\n",
        "- **Data Parallelism**: Split data batches and process them in parallel on different GPUs."
      ]
    },
    {
      "cell_type": "markdown",
      "metadata": {
        "id": "i-JgODpGGad0"
      },
      "source": [
        "**Example Use Case:**\n",
        "\n",
        "```python\n",
        "# Set a specific GPU\n",
        "device = torch.device(\"cuda:1\")  # Use GPU with index 1\n",
        "model = model.to(device)        # Move the model to GPU 1\n",
        "\n",
        "```"
      ]
    },
    {
      "cell_type": "markdown",
      "metadata": {
        "id": "BFcs4wpz4wlA"
      },
      "source": [
        "## **Creating a Tensor**"
      ]
    },
    {
      "cell_type": "markdown",
      "metadata": {
        "id": "Wkb4ncIEJFPU"
      },
      "source": [
        "⭕ `torch.empty(r, c)`: It's a placeholder that reserves space in memory but doesn't have any specific values inside it."
      ]
    },
    {
      "cell_type": "code",
      "execution_count": 6,
      "metadata": {
        "colab": {
          "base_uri": "https://localhost:8080/"
        },
        "id": "AYzOQK7n4nNq",
        "outputId": "c3c22f2e-2b8c-42ef-892a-522a021a507d"
      },
      "outputs": [
        {
          "data": {
            "text/plain": [
              "tensor([[1.4013e-44, 0.0000e+00, 7.9819e-19],\n",
              "        [0.0000e+00, 1.5779e-42, 0.0000e+00],\n",
              "        [7.9826e-19, 0.0000e+00, 1.4013e-44]])"
            ]
          },
          "execution_count": 6,
          "metadata": {},
          "output_type": "execute_result"
        }
      ],
      "source": [
        "# using empty\n",
        "a = torch.empty(3,3)\n",
        "a"
      ]
    },
    {
      "cell_type": "code",
      "execution_count": 7,
      "metadata": {
        "colab": {
          "base_uri": "https://localhost:8080/"
        },
        "id": "cSOoTAZY5FR1",
        "outputId": "cd50faa4-8aa3-4b06-ca3b-ac4ca8987a4b"
      },
      "outputs": [
        {
          "data": {
            "text/plain": [
              "torch.Tensor"
            ]
          },
          "execution_count": 7,
          "metadata": {},
          "output_type": "execute_result"
        }
      ],
      "source": [
        "# check type\n",
        "type(a)"
      ]
    },
    {
      "cell_type": "markdown",
      "metadata": {
        "id": "M5Z0Rw9fK7Hj"
      },
      "source": [
        "⭕`torch.zeros(r, c)`"
      ]
    },
    {
      "cell_type": "code",
      "execution_count": 8,
      "metadata": {
        "colab": {
          "base_uri": "https://localhost:8080/"
        },
        "id": "LxVQPOVN47Dt",
        "outputId": "d8c9a4a1-cce0-4ce7-acea-eab1d06e7a03"
      },
      "outputs": [
        {
          "data": {
            "text/plain": [
              "tensor([[0., 0., 0., 0., 0.],\n",
              "        [0., 0., 0., 0., 0.],\n",
              "        [0., 0., 0., 0., 0.],\n",
              "        [0., 0., 0., 0., 0.],\n",
              "        [0., 0., 0., 0., 0.]])"
            ]
          },
          "execution_count": 8,
          "metadata": {},
          "output_type": "execute_result"
        }
      ],
      "source": [
        "# using zeros\n",
        "torch.zeros(5,5)"
      ]
    },
    {
      "cell_type": "markdown",
      "metadata": {
        "id": "V3jKb0XlLEtb"
      },
      "source": [
        "⭕`torch.ones(r, c)`"
      ]
    },
    {
      "cell_type": "code",
      "execution_count": 9,
      "metadata": {
        "colab": {
          "base_uri": "https://localhost:8080/"
        },
        "id": "U3-KPOlX48mT",
        "outputId": "97135a34-628a-492b-e8d1-8f8de0e9d8c5"
      },
      "outputs": [
        {
          "data": {
            "text/plain": [
              "tensor([[1., 1., 1.],\n",
              "        [1., 1., 1.],\n",
              "        [1., 1., 1.]])"
            ]
          },
          "execution_count": 9,
          "metadata": {},
          "output_type": "execute_result"
        }
      ],
      "source": [
        "# using ones\n",
        "torch.ones(3,3)"
      ]
    },
    {
      "cell_type": "markdown",
      "metadata": {
        "id": "KlGNzuwFLGj6"
      },
      "source": [
        "⭕`torch.rand(r, c)`: Generating the random tensors"
      ]
    },
    {
      "cell_type": "markdown",
      "metadata": {
        "id": "pboiNRMFLL_K"
      },
      "source": [
        "⭕`torch.manual_seed(n)`"
      ]
    },
    {
      "cell_type": "code",
      "execution_count": 10,
      "metadata": {
        "colab": {
          "base_uri": "https://localhost:8080/"
        },
        "id": "U_j_mRGK4-DA",
        "outputId": "4f5b91c8-6daf-4d38-878c-01da69d105b5"
      },
      "outputs": [
        {
          "data": {
            "text/plain": [
              "tensor([[0.1117, 0.8158, 0.2626],\n",
              "        [0.4839, 0.6765, 0.7539]])"
            ]
          },
          "execution_count": 10,
          "metadata": {},
          "output_type": "execute_result"
        }
      ],
      "source": [
        "import torch\n",
        "\n",
        "# Set a manual seed for reproducibility\n",
        "torch.manual_seed(100)\n",
        "x = torch.rand(2, 3)\n",
        "x"
      ]
    },
    {
      "cell_type": "code",
      "execution_count": 11,
      "metadata": {
        "colab": {
          "base_uri": "https://localhost:8080/"
        },
        "id": "VHUYE9FsMPOS",
        "outputId": "5e5ecfb7-4b8a-40ad-b4ac-d0e00a552690"
      },
      "outputs": [
        {
          "data": {
            "text/plain": [
              "tensor([[0.1117, 0.8158, 0.2626],\n",
              "        [0.4839, 0.6765, 0.7539]])"
            ]
          },
          "execution_count": 11,
          "metadata": {},
          "output_type": "execute_result"
        }
      ],
      "source": [
        "# Reset the seed and generate the same random tensors again\n",
        "torch.manual_seed(100)\n",
        "x_again = torch.rand(2, 3)\n",
        "x_again"
      ]
    },
    {
      "cell_type": "code",
      "execution_count": 12,
      "metadata": {
        "colab": {
          "base_uri": "https://localhost:8080/"
        },
        "id": "ICPgaFxQMZ4M",
        "outputId": "5fe36d88-034c-427e-964e-a024c2c97cfb"
      },
      "outputs": [
        {
          "data": {
            "text/plain": [
              "True"
            ]
          },
          "execution_count": 12,
          "metadata": {},
          "output_type": "execute_result"
        }
      ],
      "source": [
        "# checking the Reproducibility\n",
        "torch.equal(x, x_again)"
      ]
    },
    {
      "cell_type": "code",
      "execution_count": 13,
      "metadata": {
        "colab": {
          "base_uri": "https://localhost:8080/"
        },
        "id": "96Akgtgs5Ulp",
        "outputId": "bea49cd1-3e6f-4b87-84bc-160c47bac9e2"
      },
      "outputs": [
        {
          "data": {
            "text/plain": [
              "tensor([[0.1117, 0.8158, 0.2626],\n",
              "        [0.4839, 0.6765, 0.7539]])"
            ]
          },
          "execution_count": 13,
          "metadata": {},
          "output_type": "execute_result"
        }
      ],
      "source": [
        "torch.manual_seed(100)\n",
        "torch.rand(2,3)"
      ]
    },
    {
      "cell_type": "markdown",
      "metadata": {
        "id": "vW0fb1SDRvOC"
      },
      "source": [
        "⭕`torch.tensor(r, c)`: For creating the custom tensor."
      ]
    },
    {
      "cell_type": "code",
      "execution_count": 14,
      "metadata": {
        "colab": {
          "base_uri": "https://localhost:8080/"
        },
        "id": "-YLLqcGB4_4J",
        "outputId": "446fe1ca-535f-4cb8-9bbf-d726e2643f71"
      },
      "outputs": [
        {
          "data": {
            "text/plain": [
              "tensor([[1, 2, 3],\n",
              "        [4, 5, 6]])"
            ]
          },
          "execution_count": 14,
          "metadata": {},
          "output_type": "execute_result"
        }
      ],
      "source": [
        "# using tensor\n",
        "torch.tensor([[1,2,3],[4,5,6]])"
      ]
    },
    {
      "cell_type": "markdown",
      "metadata": {
        "id": "z0h32cMUTVvO"
      },
      "source": [
        "⭕`torch.arange(start, end, step)` - values in a range"
      ]
    },
    {
      "cell_type": "code",
      "execution_count": 15,
      "metadata": {
        "colab": {
          "base_uri": "https://localhost:8080/"
        },
        "id": "0a2PnhEeS8ia",
        "outputId": "c4c63a11-e14b-4f85-a943-03e43e66f2e9"
      },
      "outputs": [
        {
          "data": {
            "text/plain": [
              "tensor([0, 2, 4, 6, 8])"
            ]
          },
          "execution_count": 15,
          "metadata": {},
          "output_type": "execute_result"
        }
      ],
      "source": [
        "torch.arange(0,10,2)"
      ]
    },
    {
      "cell_type": "markdown",
      "metadata": {
        "id": "yrk_MbhNTm1N"
      },
      "source": [
        "⭕`torch.linspace(start, end, steps)` - evenly spaced points"
      ]
    },
    {
      "cell_type": "code",
      "execution_count": 16,
      "metadata": {
        "colab": {
          "base_uri": "https://localhost:8080/"
        },
        "id": "VwL9L_pXS-G3",
        "outputId": "9d742c10-62ad-4064-d29f-db78fa464f1b"
      },
      "outputs": [
        {
          "data": {
            "text/plain": [
              "tensor([0.0000, 0.2500, 0.5000, 0.7500, 1.0000])"
            ]
          },
          "execution_count": 16,
          "metadata": {},
          "output_type": "execute_result"
        }
      ],
      "source": [
        "torch.linspace(0, 1, 5)"
      ]
    },
    {
      "cell_type": "markdown",
      "metadata": {
        "id": "6l4cG72bT3Pt"
      },
      "source": [
        "⭕`torch.eye(n, m=None)`: Creates a 2D identity matrix (diagonal elements are `1`, others are `0`)"
      ]
    },
    {
      "cell_type": "code",
      "execution_count": 17,
      "metadata": {
        "colab": {
          "base_uri": "https://localhost:8080/"
        },
        "id": "Z_Rv3uYhS_0w",
        "outputId": "ce699db8-18a1-4a8d-857b-398a449cb7ca"
      },
      "outputs": [
        {
          "data": {
            "text/plain": [
              "tensor([[1., 0., 0., 0., 0.],\n",
              "        [0., 1., 0., 0., 0.],\n",
              "        [0., 0., 1., 0., 0.],\n",
              "        [0., 0., 0., 1., 0.],\n",
              "        [0., 0., 0., 0., 1.]])"
            ]
          },
          "execution_count": 17,
          "metadata": {},
          "output_type": "execute_result"
        }
      ],
      "source": [
        "torch.eye(5)"
      ]
    },
    {
      "cell_type": "code",
      "execution_count": 18,
      "metadata": {
        "colab": {
          "base_uri": "https://localhost:8080/"
        },
        "id": "3N8dD14vTCWV",
        "outputId": "c9710628-85e0-41ff-fbb6-721a8410060d"
      },
      "outputs": [
        {
          "data": {
            "text/plain": [
              "tensor([[5, 5, 5],\n",
              "        [5, 5, 5],\n",
              "        [5, 5, 5]])"
            ]
          },
          "execution_count": 18,
          "metadata": {},
          "output_type": "execute_result"
        }
      ],
      "source": [
        "torch.full((3, 3), 5)"
      ]
    },
    {
      "cell_type": "markdown",
      "metadata": {
        "id": "0ejaUWSkinz0"
      },
      "source": [
        "## **Tensor Shapes**"
      ]
    },
    {
      "cell_type": "code",
      "execution_count": 19,
      "metadata": {
        "colab": {
          "base_uri": "https://localhost:8080/"
        },
        "id": "HDrr5mQ86R4K",
        "outputId": "5c4034dd-4e97-4dd7-836f-28769d31cf95"
      },
      "outputs": [
        {
          "name": "stdout",
          "output_type": "stream",
          "text": [
            "tensor([[1, 2, 3],\n",
            "        [4, 5, 6]])\n",
            "torch.Size([2, 3])\n"
          ]
        }
      ],
      "source": [
        "x = torch.tensor([[1,2,3],[4,5,6]])\n",
        "print(x)\n",
        "print(x.shape)"
      ]
    },
    {
      "cell_type": "markdown",
      "metadata": {
        "id": "1VH2xD7z9Q99"
      },
      "source": [
        "⭕`torch.empty_like(x)`: Creates a new tensor with the same shape and data type as `x`, but it doesn't initialize its values. The values in the new tensor will be random, uninitialized data."
      ]
    },
    {
      "cell_type": "code",
      "execution_count": 20,
      "metadata": {
        "colab": {
          "base_uri": "https://localhost:8080/"
        },
        "id": "NEQW9QhmlKXA",
        "outputId": "996ff93c-966e-4327-c60a-1da2e569728a"
      },
      "outputs": [
        {
          "data": {
            "text/plain": [
              "tensor([[2322206376936961119, 7310597164893758754, 3180237793526116959],\n",
              "        [7020674649171501600, 8319593408446489965, 3180215807337460325]])"
            ]
          },
          "execution_count": 20,
          "metadata": {},
          "output_type": "execute_result"
        }
      ],
      "source": [
        "torch.empty_like(x)"
      ]
    },
    {
      "cell_type": "code",
      "execution_count": 21,
      "metadata": {
        "colab": {
          "base_uri": "https://localhost:8080/"
        },
        "id": "PyyKSNHTlXMU",
        "outputId": "820a046e-43b8-4782-cac7-84ca22f0392e"
      },
      "outputs": [
        {
          "data": {
            "text/plain": [
              "tensor([[0, 0, 0],\n",
              "        [0, 0, 0]])"
            ]
          },
          "execution_count": 21,
          "metadata": {},
          "output_type": "execute_result"
        }
      ],
      "source": [
        "torch.zeros_like(x)"
      ]
    },
    {
      "cell_type": "code",
      "execution_count": 22,
      "metadata": {
        "colab": {
          "base_uri": "https://localhost:8080/"
        },
        "id": "WtKV7Wxalb3l",
        "outputId": "636fcad1-cda9-4ec4-930c-7f5738de40cf"
      },
      "outputs": [
        {
          "data": {
            "text/plain": [
              "tensor([[1, 1, 1],\n",
              "        [1, 1, 1]])"
            ]
          },
          "execution_count": 22,
          "metadata": {},
          "output_type": "execute_result"
        }
      ],
      "source": [
        "torch.ones_like(x)"
      ]
    },
    {
      "cell_type": "markdown",
      "metadata": {
        "id": "IfU9grZ__tr0"
      },
      "source": [
        "⚠️\n",
        "```python\n",
        "x = torch.tensor([[1,2,3],[4,5,6]])\n",
        "torch.rand_like(x)\n",
        "```\n",
        "\n",
        "```python\n",
        "---------------------------------------------------------------------------\n",
        "RuntimeError                              Traceback (most recent call last)\n",
        "<ipython-input-103-8a266f1565c3> in <cell line: 0>()\n",
        "----> 1 torch.rand_like(x)\n",
        "\n",
        "RuntimeError: \"check_uniform_bounds\" not implemented for 'Long'\n",
        "```\n",
        "\n",
        "> 👉Because the tensor `x` has all integers values, where as `torch.rand` generates random numbers between 0 and 1, which are floating-point values. Since a Long Tensor can only store integers, it can't hold these decimal values."
      ]
    },
    {
      "cell_type": "markdown",
      "metadata": {
        "id": "1A13nkWjELjV"
      },
      "source": [
        "✅"
      ]
    },
    {
      "cell_type": "code",
      "execution_count": 23,
      "metadata": {
        "colab": {
          "base_uri": "https://localhost:8080/"
        },
        "id": "1WS_uk8ileyH",
        "outputId": "3ca8d7d3-efc1-42e3-bfe0-05609fac7299"
      },
      "outputs": [
        {
          "data": {
            "text/plain": [
              "tensor([[0.2627, 0.0428, 0.2080],\n",
              "        [0.1180, 0.1217, 0.7356]])"
            ]
          },
          "execution_count": 23,
          "metadata": {},
          "output_type": "execute_result"
        }
      ],
      "source": [
        "torch.rand_like(x, dtype=torch.float32)"
      ]
    },
    {
      "cell_type": "markdown",
      "metadata": {
        "id": "nYM1fR5BmxIf"
      },
      "source": [
        "## **Tensor Data Types**"
      ]
    },
    {
      "cell_type": "markdown",
      "metadata": {
        "id": "dLm25jhknmuQ"
      },
      "source": [
        "| **Data Type**         | **Dtype**         | **Description**                                                                                                                                      |\n",
        "|------------------------|-------------------|------------------------------------------------------------------------------------------------------------------------------------------------------|\n",
        "| **32-bit Floating Point** | `torch.float32`   | Standard floating-point type used for most deep learning tasks. Provides a balance between precision and memory usage.                               |\n",
        "| **64-bit Floating Point** | `torch.float64`   | Double-precision floating point. Useful for high-precision numerical tasks but uses more memory.                                                    |\n",
        "| **16-bit Floating Point** | `torch.float16`   | Half-precision floating point. Commonly used in mixed-precision training to reduce memory and computation.                                           |\n",
        "| **BFloat16**            | `torch.bfloat16`  | Brain floating-point format with reduced precision compared to `float16`. Used in mixed-precision training.                                         |\n",
        "| **8-bit Floating Point**  | `torch.float8`    | Ultra-low-precision floating point. Used for experimental applications and extreme memory-constrained scenarios.                                    |\n",
        "| **8-bit Integer**       | `torch.int8`      | 8-bit signed integer. Used for quantized models to save memory and computation in inference.                                                        |\n",
        "| **16-bit Integer**      | `torch.int16`     | 16-bit signed integer. Useful for special numerical tasks requiring intermediate precision.                                                         |\n",
        "| **32-bit Integer**      | `torch.int32`     | Standard signed integer type. Commonly used for indexing and general-purpose numerical tasks.                                                       |\n",
        "| **64-bit Integer (Long Tensor)** | `torch.int64`     | Long integer type. Often used for large indexing arrays or tasks involving large numbers.                                                           |\n",
        "| **8-bit Unsigned Integer** | `torch.uint8`     | 8-bit unsigned integer. Commonly used for image data (e.g., pixel values between 0 and 255).                                                        |\n",
        "| **Boolean**             | `torch.bool`      | Boolean type. Stores `True` or `False` values. Often used for masks in logical operations.                                                          |\n",
        "| **Complex 64**          | `torch.complex64` | Complex number type with 32-bit real and 32-bit imaginary parts. Used for scientific and signal processing tasks.                                    |\n",
        "| **Complex 128**         | `torch.complex128`| Complex number type with 64-bit real and 64-bit imaginary parts. Offers higher precision but uses more memory.                                       |\n",
        "| **Quantized Integer**   | `torch.qint8`     | Quantized signed 8-bit integer. Used in quantized models for efficient inference.                                                                   |\n",
        "| **Quantized Unsigned Integer** | `torch.quint8`    | Quantized unsigned 8-bit integer. Often used for quantized tensors in image-related tasks.                                                          |\n",
        "\n"
      ]
    },
    {
      "cell_type": "code",
      "execution_count": 24,
      "metadata": {
        "colab": {
          "base_uri": "https://localhost:8080/"
        },
        "id": "Jy-rBsKSliAe",
        "outputId": "46aeac16-95e7-43b0-de12-7bdb92fbaa77"
      },
      "outputs": [
        {
          "data": {
            "text/plain": [
              "torch.int64"
            ]
          },
          "execution_count": 24,
          "metadata": {},
          "output_type": "execute_result"
        }
      ],
      "source": [
        "# find data type\n",
        "x = torch.tensor([[1,2,3],[4,5,6]])\n",
        "x.dtype"
      ]
    },
    {
      "cell_type": "code",
      "execution_count": 25,
      "metadata": {
        "colab": {
          "base_uri": "https://localhost:8080/"
        },
        "id": "6T2gmrujnaMA",
        "outputId": "292e1d5c-cef9-403b-dc85-1a04909c5c57"
      },
      "outputs": [
        {
          "data": {
            "text/plain": [
              "tensor([1, 2, 3], dtype=torch.int32)"
            ]
          },
          "execution_count": 25,
          "metadata": {},
          "output_type": "execute_result"
        }
      ],
      "source": [
        "# assign data type\n",
        "torch.tensor([1.0, 2.0, 3.0], dtype=torch.int32)"
      ]
    },
    {
      "cell_type": "code",
      "execution_count": 26,
      "metadata": {
        "colab": {
          "base_uri": "https://localhost:8080/"
        },
        "id": "wZ8lMLsInffd",
        "outputId": "c1613d0c-0b46-4b3b-f4ec-70a04d484b22"
      },
      "outputs": [
        {
          "data": {
            "text/plain": [
              "tensor([1., 2., 3.], dtype=torch.float64)"
            ]
          },
          "execution_count": 26,
          "metadata": {},
          "output_type": "execute_result"
        }
      ],
      "source": [
        "torch.tensor([1,2,3], dtype=torch.float64)"
      ]
    },
    {
      "cell_type": "markdown",
      "metadata": {
        "id": "m7wSrnCgErge"
      },
      "source": [
        "⭕ **Changing the tensor data type**"
      ]
    },
    {
      "cell_type": "code",
      "execution_count": 27,
      "metadata": {
        "colab": {
          "base_uri": "https://localhost:8080/"
        },
        "id": "WTAB-h_ing07",
        "outputId": "9f47f34e-8b87-45bd-b050-f85faf42ec26"
      },
      "outputs": [
        {
          "name": "stdout",
          "output_type": "stream",
          "text": [
            "Original Tensor:\n",
            "torch.int64\n",
            "\n",
            "Converted Tensor:\n",
            "torch.float32\n"
          ]
        }
      ],
      "source": [
        "# Create a tensor with integers\n",
        "x = torch.tensor([[1, 2, 3], [4, 5, 6]])\n",
        "print(\"Original Tensor:\")\n",
        "print(x.dtype)\n",
        "\n",
        "# Convert the tensor to a different data type (float32)\n",
        "y = x.to(dtype=torch.float32)\n",
        "print(\"\\nConverted Tensor:\")\n",
        "print(y.dtype)"
      ]
    },
    {
      "cell_type": "markdown",
      "metadata": {
        "id": "baPoka3lqpEQ"
      },
      "source": [
        "## **Mathematical operations**"
      ]
    },
    {
      "cell_type": "markdown",
      "metadata": {
        "id": "wre7rSdlqsOB"
      },
      "source": [
        "### **1. Scalar operation**"
      ]
    },
    {
      "cell_type": "code",
      "execution_count": 28,
      "metadata": {
        "colab": {
          "base_uri": "https://localhost:8080/"
        },
        "id": "ztrwQq-cqyz9",
        "outputId": "86217158-7322-4172-b7dd-8de71ceba913"
      },
      "outputs": [
        {
          "name": "stdout",
          "output_type": "stream",
          "text": [
            "Original Tensor:\n",
            "tensor([[1, 2],\n",
            "        [4, 5]])\n",
            "\n",
            "Addition (x + 2):\n",
            "tensor([[3, 4],\n",
            "        [6, 7]])\n",
            "\n",
            "Subtraction (x - 2):\n",
            "tensor([[-1,  0],\n",
            "        [ 2,  3]])\n",
            "\n",
            "Multiplication (x * 3):\n",
            "tensor([[ 3,  6],\n",
            "        [12, 15]])\n",
            "\n",
            "Division (x / 2):\n",
            "tensor([[0.5000, 1.0000],\n",
            "        [2.0000, 2.5000]])\n",
            "\n",
            "Integer Division ((x * 100) // 3):\n",
            "tensor([[ 33,  66],\n",
            "        [133, 166]])\n",
            "\n",
            "Modulo Operation (((x * 100) // 3) % 2):\n",
            "tensor([[1, 0],\n",
            "        [1, 0]])\n",
            "\n",
            "Power (x ** 2):\n",
            "tensor([[ 1,  4],\n",
            "        [16, 25]])\n"
          ]
        }
      ],
      "source": [
        "x = torch.tensor([[1, 2], [4, 5]])\n",
        "print(\"Original Tensor:\")\n",
        "print(x)\n",
        "\n",
        "# Perform scalar operations on the tensor\n",
        "print(\"\\nAddition (x + 2):\")\n",
        "print(x + 2)\n",
        "\n",
        "print(\"\\nSubtraction (x - 2):\")\n",
        "print(x - 2)\n",
        "\n",
        "print(\"\\nMultiplication (x * 3):\")\n",
        "print(x * 3)\n",
        "\n",
        "print(\"\\nDivision (x / 2):\")\n",
        "print(x / 2)\n",
        "\n",
        "print(\"\\nInteger Division ((x * 100) // 3):\")\n",
        "print((x * 100) // 3)\n",
        "\n",
        "print(\"\\nModulo Operation (((x * 100) // 3) % 2):\")\n",
        "print(((x * 100) // 3) % 2)\n",
        "\n",
        "print(\"\\nPower (x ** 2):\")\n",
        "print(x ** 2)"
      ]
    },
    {
      "cell_type": "markdown",
      "metadata": {
        "id": "y2n84o2ZrGcY"
      },
      "source": [
        "### **2. Element wise operation**"
      ]
    },
    {
      "cell_type": "code",
      "execution_count": 29,
      "metadata": {
        "colab": {
          "base_uri": "https://localhost:8080/"
        },
        "id": "PcnbNatwq1_3",
        "outputId": "abf68df1-f375-4ffb-843d-3caa67c8b85a"
      },
      "outputs": [
        {
          "name": "stdout",
          "output_type": "stream",
          "text": [
            "Tensor a:\n",
            "tensor([[ 2.,  4.,  6.],\n",
            "        [ 8., 10., 12.]])\n",
            "\n",
            "Tensor b:\n",
            "tensor([[1., 2., 3.],\n",
            "        [4., 5., 6.]])\n",
            "\n",
            "Element-wise Addition (a + b):\n",
            "tensor([[ 3.,  6.,  9.],\n",
            "        [12., 15., 18.]])\n",
            "\n",
            "Element-wise Subtraction (a - b):\n",
            "tensor([[1., 2., 3.],\n",
            "        [4., 5., 6.]])\n",
            "\n",
            "Element-wise Multiplication (a * b):\n",
            "tensor([[ 2.,  8., 18.],\n",
            "        [32., 50., 72.]])\n",
            "\n",
            "Element-wise Division (a / b):\n",
            "tensor([[2., 2., 2.],\n",
            "        [2., 2., 2.]])\n",
            "\n",
            "Element-wise Power (a ** b):\n",
            "tensor([[2.0000e+00, 1.6000e+01, 2.1600e+02],\n",
            "        [4.0960e+03, 1.0000e+05, 2.9860e+06]])\n",
            "\n",
            "Element-wise Modulo (a % b):\n",
            "tensor([[0., 0., 0.],\n",
            "        [0., 0., 0.]])\n"
          ]
        }
      ],
      "source": [
        "import torch\n",
        "\n",
        "# Define simple tensors\n",
        "a = torch.tensor([[2, 4, 6], [8, 10, 12]], dtype=torch.float32)\n",
        "b = torch.tensor([[1, 2, 3], [4, 5, 6]], dtype=torch.float32)\n",
        "\n",
        "print(\"Tensor a:\")\n",
        "print(a)\n",
        "\n",
        "print(\"\\nTensor b:\")\n",
        "print(b)\n",
        "\n",
        "# Perform element-wise operations\n",
        "print(\"\\nElement-wise Addition (a + b):\")\n",
        "print(a + b)\n",
        "\n",
        "print(\"\\nElement-wise Subtraction (a - b):\")\n",
        "print(a - b)\n",
        "\n",
        "print(\"\\nElement-wise Multiplication (a * b):\")\n",
        "print(a * b)\n",
        "\n",
        "print(\"\\nElement-wise Division (a / b):\")\n",
        "print(a / b)\n",
        "\n",
        "print(\"\\nElement-wise Power (a ** b):\")\n",
        "print(a ** b)\n",
        "\n",
        "print(\"\\nElement-wise Modulo (a % b):\")\n",
        "print(a % b)"
      ]
    },
    {
      "cell_type": "markdown",
      "metadata": {
        "id": "AsL58kMhKgoA"
      },
      "source": [
        "🔷\n",
        "- **`torch.abs()`**: Computes the absolute value of each element in the tensor.\n",
        "- **`torch.neg()`**: Negates (flips the sign of) each element in the tensor.\n",
        "- **`torch.round()`**: Rounds each element in the tensor to the nearest integer.\n",
        "- **`torch.ceil()`**: Rounds each element in the tensor up to the nearest integer (ceiling).\n",
        "- **`torch.floor()`**: Rounds each element in the tensor down to the nearest integer (floor).\n",
        "- **`torch.clamp()`**: Limits the values in the tensor to a specified range. Values below the minimum become the minimum, and values above the maximum become the maximum.::"
      ]
    },
    {
      "cell_type": "code",
      "execution_count": 30,
      "metadata": {
        "colab": {
          "base_uri": "https://localhost:8080/"
        },
        "id": "xv4fpyyFIN5p",
        "outputId": "240228e9-4067-4a54-8483-734b9db0a160"
      },
      "outputs": [
        {
          "name": "stdout",
          "output_type": "stream",
          "text": [
            "original tensor: tensor([ 1, -2,  3, -4])\n",
            "Absolute values of c: tensor([1, 2, 3, 4])\n",
            "Negation of c: tensor([-1,  2, -3,  4])\n"
          ]
        }
      ],
      "source": [
        "# Create tensor c with integer values\n",
        "c = torch.tensor([1, -2, 3, -4])\n",
        "print(\"original tensor:\", c)\n",
        "\n",
        "# Absolute values of c (removes negative sign)\n",
        "abs_c = torch.abs(c)\n",
        "print(\"Absolute values of c:\", abs_c)\n",
        "\n",
        "# Negation of c (negates each element's sign)\n",
        "neg_c = torch.neg(c)\n",
        "print(\"Negation of c:\", neg_c)"
      ]
    },
    {
      "cell_type": "code",
      "execution_count": 31,
      "metadata": {
        "colab": {
          "base_uri": "https://localhost:8080/"
        },
        "id": "2Som_RutKNgg",
        "outputId": "cb956351-b38e-4e29-d87e-ae8abb81fa7d"
      },
      "outputs": [
        {
          "name": "stdout",
          "output_type": "stream",
          "text": [
            "original tensor: tensor([1.5000, 2.4000, 3.6000, 4.7000])\n",
            "Rounded d: tensor([2., 2., 4., 5.])\n",
            "Ceil of d: tensor([2., 3., 4., 5.])\n",
            "Floor of d: tensor([1., 2., 3., 4.])\n",
            "Clamped d: tensor([2.0000, 2.4000, 3.0000, 3.0000])\n"
          ]
        }
      ],
      "source": [
        "# Create tensor d with floating-point values\n",
        "d = torch.tensor([1.5, 2.4, 3.6, 4.7])\n",
        "print(\"original tensor:\", d)\n",
        "\n",
        "# Round d to the nearest integer\n",
        "rounded_d = torch.round(d)\n",
        "print(\"Rounded d:\", rounded_d)\n",
        "\n",
        "# Apply ceil function to d (round up to the nearest integer)\n",
        "ceil_d = torch.ceil(d)\n",
        "print(\"Ceil of d:\", ceil_d)\n",
        "\n",
        "# Apply floor function to d (round down to the nearest integer)\n",
        "floor_d = torch.floor(d)\n",
        "print(\"Floor of d:\", floor_d)\n",
        "\n",
        "# Clamp d to the range [2, 3], any value below 2 becomes 2, and any value above 3 becomes 3\n",
        "clamped_d = torch.clamp(d, min=2, max=3)\n",
        "print(\"Clamped d:\", clamped_d)"
      ]
    },
    {
      "cell_type": "markdown",
      "metadata": {
        "id": "4vWfG_ZmsN0J"
      },
      "source": [
        "### **3. Reduction operation**\n"
      ]
    },
    {
      "cell_type": "code",
      "execution_count": 32,
      "metadata": {
        "colab": {
          "base_uri": "https://localhost:8080/"
        },
        "id": "JQBlGL52sGae",
        "outputId": "5425c05b-c859-47ce-d8e3-5fd088a6fa80"
      },
      "outputs": [
        {
          "data": {
            "text/plain": [
              "tensor([[8., 8., 4.],\n",
              "        [4., 1., 0.]])"
            ]
          },
          "execution_count": 32,
          "metadata": {},
          "output_type": "execute_result"
        }
      ],
      "source": [
        "e = torch.randint(size=(2,3), low=0, high=10, dtype=torch.float32)\n",
        "e"
      ]
    },
    {
      "cell_type": "markdown",
      "metadata": {
        "id": "_BvutrCZ0yIH"
      },
      "source": [
        "⭕ **sum**"
      ]
    },
    {
      "cell_type": "code",
      "execution_count": 33,
      "metadata": {
        "colab": {
          "base_uri": "https://localhost:8080/"
        },
        "id": "ICLpBtdV0S02",
        "outputId": "612e74d2-ea33-4f1c-c467-fa1f2efce2ca"
      },
      "outputs": [
        {
          "data": {
            "text/plain": [
              "tensor(25.)"
            ]
          },
          "execution_count": 33,
          "metadata": {},
          "output_type": "execute_result"
        }
      ],
      "source": [
        "torch.sum(e)"
      ]
    },
    {
      "cell_type": "markdown",
      "metadata": {
        "id": "9n7u1wnJ032x"
      },
      "source": [
        "⭕ **sum along the columns**"
      ]
    },
    {
      "cell_type": "code",
      "execution_count": 34,
      "metadata": {
        "colab": {
          "base_uri": "https://localhost:8080/"
        },
        "id": "o3EkNaPR0h7u",
        "outputId": "b1c6e513-c7ee-462d-d031-3bc67c39599a"
      },
      "outputs": [
        {
          "data": {
            "text/plain": [
              "tensor([12.,  9.,  4.])"
            ]
          },
          "execution_count": 34,
          "metadata": {},
          "output_type": "execute_result"
        }
      ],
      "source": [
        "torch.sum(e, dim=0)"
      ]
    },
    {
      "cell_type": "markdown",
      "metadata": {
        "id": "NALc2wZe079H"
      },
      "source": [
        "⭕ **sum along rows**"
      ]
    },
    {
      "cell_type": "code",
      "execution_count": 35,
      "metadata": {
        "colab": {
          "base_uri": "https://localhost:8080/"
        },
        "id": "9o8zMdUosWSs",
        "outputId": "2e9a3113-e509-4f73-9fec-7379275604d5"
      },
      "outputs": [
        {
          "data": {
            "text/plain": [
              "tensor([20.,  5.])"
            ]
          },
          "execution_count": 35,
          "metadata": {},
          "output_type": "execute_result"
        }
      ],
      "source": [
        "torch.sum(e, dim=1)"
      ]
    },
    {
      "cell_type": "markdown",
      "metadata": {
        "id": "kt6yRE6N1Ak-"
      },
      "source": [
        "⭕ **mean**"
      ]
    },
    {
      "cell_type": "code",
      "execution_count": 36,
      "metadata": {
        "colab": {
          "base_uri": "https://localhost:8080/"
        },
        "id": "P1c2A6tj0ms-",
        "outputId": "c1306cb4-921e-4b47-96b7-7f50469b741d"
      },
      "outputs": [
        {
          "data": {
            "text/plain": [
              "tensor(4.1667)"
            ]
          },
          "execution_count": 36,
          "metadata": {},
          "output_type": "execute_result"
        }
      ],
      "source": [
        "torch.mean(e)"
      ]
    },
    {
      "cell_type": "markdown",
      "metadata": {
        "id": "or3Zmbm31F1n"
      },
      "source": [
        "⭕ **mean along column**"
      ]
    },
    {
      "cell_type": "code",
      "execution_count": 37,
      "metadata": {
        "colab": {
          "base_uri": "https://localhost:8080/"
        },
        "id": "5Am6Hrdssl90",
        "outputId": "3cf6ba1c-c4dd-4e75-f003-24f0c21ce1f2"
      },
      "outputs": [
        {
          "data": {
            "text/plain": [
              "tensor([6.0000, 4.5000, 2.0000])"
            ]
          },
          "execution_count": 37,
          "metadata": {},
          "output_type": "execute_result"
        }
      ],
      "source": [
        "torch.mean(e, dim=0)"
      ]
    },
    {
      "cell_type": "markdown",
      "metadata": {
        "id": "SCXH-Ei01JF-"
      },
      "source": [
        "⭕ **median**"
      ]
    },
    {
      "cell_type": "code",
      "execution_count": 38,
      "metadata": {
        "colab": {
          "base_uri": "https://localhost:8080/"
        },
        "id": "wIXESOkIs8M8",
        "outputId": "bc94d47c-d14e-4ed9-b078-60cfe397bfcd"
      },
      "outputs": [
        {
          "data": {
            "text/plain": [
              "torch.return_types.median(\n",
              "values=tensor([8., 1.]),\n",
              "indices=tensor([0, 1]))"
            ]
          },
          "execution_count": 38,
          "metadata": {},
          "output_type": "execute_result"
        }
      ],
      "source": [
        "torch.median(e, dim=1)"
      ]
    },
    {
      "cell_type": "markdown",
      "metadata": {
        "id": "7mQTXDlC1M6-"
      },
      "source": [
        "⭕ **min & max**"
      ]
    },
    {
      "cell_type": "code",
      "execution_count": 39,
      "metadata": {
        "colab": {
          "base_uri": "https://localhost:8080/"
        },
        "id": "RIs7y6cysnFT",
        "outputId": "6cc11456-38aa-40c2-943d-8145e435d6c1"
      },
      "outputs": [
        {
          "data": {
            "text/plain": [
              "tensor(0.)"
            ]
          },
          "execution_count": 39,
          "metadata": {},
          "output_type": "execute_result"
        }
      ],
      "source": [
        "torch.max(e)\n",
        "torch.min(e)"
      ]
    },
    {
      "cell_type": "markdown",
      "metadata": {
        "id": "SKK0cIZ91RK3"
      },
      "source": [
        "⭕ **product**"
      ]
    },
    {
      "cell_type": "code",
      "execution_count": 40,
      "metadata": {
        "colab": {
          "base_uri": "https://localhost:8080/"
        },
        "id": "TIP4CUwasw4Q",
        "outputId": "96fe72a7-ffbb-464c-be98-af29369eedc0"
      },
      "outputs": [
        {
          "data": {
            "text/plain": [
              "tensor(0.)"
            ]
          },
          "execution_count": 40,
          "metadata": {},
          "output_type": "execute_result"
        }
      ],
      "source": [
        "torch.prod(e)"
      ]
    },
    {
      "cell_type": "markdown",
      "metadata": {
        "id": "wcr_HExx1TG_"
      },
      "source": [
        "⭕ **Standard deviation**"
      ]
    },
    {
      "cell_type": "code",
      "execution_count": 41,
      "metadata": {
        "colab": {
          "base_uri": "https://localhost:8080/"
        },
        "id": "BAQIjNjwsyLF",
        "outputId": "e97c4603-f909-4002-8304-4f1f3f931fc3"
      },
      "outputs": [
        {
          "data": {
            "text/plain": [
              "tensor(3.3714)"
            ]
          },
          "execution_count": 41,
          "metadata": {},
          "output_type": "execute_result"
        }
      ],
      "source": [
        "torch.std(e)"
      ]
    },
    {
      "cell_type": "markdown",
      "metadata": {
        "id": "7BMcFJNt1X5G"
      },
      "source": [
        "⭕ **variance**"
      ]
    },
    {
      "cell_type": "code",
      "execution_count": 42,
      "metadata": {
        "colab": {
          "base_uri": "https://localhost:8080/"
        },
        "id": "78S1Ggv_s2nC",
        "outputId": "41e6f19f-f2be-48b7-dec6-91eff5735cf4"
      },
      "outputs": [
        {
          "data": {
            "text/plain": [
              "tensor(11.3667)"
            ]
          },
          "execution_count": 42,
          "metadata": {},
          "output_type": "execute_result"
        }
      ],
      "source": [
        "torch.var(e)"
      ]
    },
    {
      "cell_type": "markdown",
      "metadata": {
        "id": "AGaAw67Z1gcX"
      },
      "source": [
        "⭕ **argmax**"
      ]
    },
    {
      "cell_type": "code",
      "execution_count": 43,
      "metadata": {
        "colab": {
          "base_uri": "https://localhost:8080/"
        },
        "id": "EOtGIsd9s3UZ",
        "outputId": "4a84e090-8954-4c4c-d646-da07709e4608"
      },
      "outputs": [
        {
          "data": {
            "text/plain": [
              "tensor(0)"
            ]
          },
          "execution_count": 43,
          "metadata": {},
          "output_type": "execute_result"
        }
      ],
      "source": [
        "torch.argmax(e)"
      ]
    },
    {
      "cell_type": "markdown",
      "metadata": {
        "id": "exHvSWLm1i0W"
      },
      "source": [
        "⭕ **argmin**\n",
        "\n",
        "\n"
      ]
    },
    {
      "cell_type": "code",
      "execution_count": 44,
      "metadata": {
        "colab": {
          "base_uri": "https://localhost:8080/"
        },
        "id": "J23C1bwes6TL",
        "outputId": "90990c79-a599-46cb-e64f-07dca69ced50"
      },
      "outputs": [
        {
          "data": {
            "text/plain": [
              "tensor(5)"
            ]
          },
          "execution_count": 44,
          "metadata": {},
          "output_type": "execute_result"
        }
      ],
      "source": [
        "torch.argmin(e)"
      ]
    },
    {
      "cell_type": "markdown",
      "metadata": {
        "id": "dw_h9fvMtLXw"
      },
      "source": [
        "### **4. Matrix operations**"
      ]
    },
    {
      "cell_type": "markdown",
      "metadata": {
        "id": "WKB16TomQCkm"
      },
      "source": [
        "⭕ `matmul` & `@`"
      ]
    },
    {
      "cell_type": "code",
      "execution_count": 45,
      "metadata": {
        "colab": {
          "base_uri": "https://localhost:8080/"
        },
        "id": "a54MqBBQs7BJ",
        "outputId": "2ca24c06-4357-426d-8e9c-f3062577bc41"
      },
      "outputs": [
        {
          "name": "stdout",
          "output_type": "stream",
          "text": [
            "tensor([[4, 3, 8],\n",
            "        [7, 4, 6]])\n",
            "tensor([[0, 1],\n",
            "        [9, 9],\n",
            "        [8, 0]])\n"
          ]
        },
        {
          "data": {
            "text/plain": [
              "tensor([[91, 31],\n",
              "        [84, 43]])"
            ]
          },
          "execution_count": 45,
          "metadata": {},
          "output_type": "execute_result"
        }
      ],
      "source": [
        "f = torch.randint(size=(2,3), low=0, high=10)\n",
        "g = torch.randint(size=(3,2), low=0, high=10)\n",
        "\n",
        "print(f)\n",
        "print(g)\n",
        "\n",
        "# matrix multiplcation\n",
        "torch.matmul(f, g)"
      ]
    },
    {
      "cell_type": "code",
      "execution_count": 46,
      "metadata": {
        "colab": {
          "base_uri": "https://localhost:8080/"
        },
        "id": "CopN1Oe5tZrD",
        "outputId": "6ed0a471-c0bc-4364-da7f-f2db2235aeac"
      },
      "outputs": [
        {
          "name": "stdout",
          "output_type": "stream",
          "text": [
            "tensor([[ 7, 10],\n",
            "        [15, 22]])\n",
            "tensor([[ 7, 10],\n",
            "        [15, 22]])\n"
          ]
        }
      ],
      "source": [
        "vector1 = torch.tensor([[1, 2], [3, 4]])\n",
        "vector2 = torch.tensor([[1, 2], [3, 4]])\n",
        "\n",
        "# dot product using matmul\n",
        "result = torch.matmul(vector1, vector2)\n",
        "print(result)\n",
        "\n",
        "# or using the @ operator\n",
        "result = vector1 @ vector2\n",
        "print(result)"
      ]
    },
    {
      "cell_type": "markdown",
      "metadata": {
        "id": "ECrC-s6IQIBM"
      },
      "source": [
        "⭕ `dot`"
      ]
    },
    {
      "cell_type": "code",
      "execution_count": 47,
      "metadata": {
        "colab": {
          "base_uri": "https://localhost:8080/"
        },
        "id": "RaunOUfnPWvG",
        "outputId": "29457ca7-86ec-4bc2-cfd6-c4d13576b685"
      },
      "outputs": [
        {
          "name": "stdout",
          "output_type": "stream",
          "text": [
            "tensor(32)\n"
          ]
        }
      ],
      "source": [
        "vector1 = torch.tensor([1, 2, 3])\n",
        "vector2 = torch.tensor([4, 5, 6])\n",
        "\n",
        "# dot product\n",
        "result = torch.dot(vector1, vector2)\n",
        "print(result)"
      ]
    },
    {
      "cell_type": "markdown",
      "metadata": {
        "id": "76R-LxV_QK_t"
      },
      "source": [
        "⭕ `transpose`"
      ]
    },
    {
      "cell_type": "code",
      "execution_count": 48,
      "metadata": {
        "colab": {
          "base_uri": "https://localhost:8080/"
        },
        "id": "9Imz3Vq6ta4y",
        "outputId": "6300611e-f698-4184-c27f-18d9e0fed218"
      },
      "outputs": [
        {
          "name": "stdout",
          "output_type": "stream",
          "text": [
            "tensor([[7, 0, 0],\n",
            "        [9, 5, 7]])\n"
          ]
        },
        {
          "data": {
            "text/plain": [
              "tensor([[7, 9],\n",
              "        [0, 5],\n",
              "        [0, 7]])"
            ]
          },
          "execution_count": 48,
          "metadata": {},
          "output_type": "execute_result"
        }
      ],
      "source": [
        "# transpose\n",
        "f = torch.randint(size=(2,3), low=0, high=10)\n",
        "print(f)\n",
        "\n",
        "torch.transpose(f, 0, 1)"
      ]
    },
    {
      "cell_type": "markdown",
      "metadata": {
        "id": "YLR_P8IaQVYd"
      },
      "source": [
        "⭕ `det`"
      ]
    },
    {
      "cell_type": "markdown",
      "metadata": {
        "id": "vXPcrT2F0VIy"
      },
      "source": [
        "$$\n",
        "\\text{If } A = \\begin{bmatrix}\n",
        "a & b & c \\\\\n",
        "d & e & f \\\\\n",
        "g & h & i\n",
        "\\end{bmatrix}, \\text{ then } \\det(A) = |A| =\n",
        "\\begin{vmatrix}\n",
        "a & b & c \\\\\n",
        "d & e & f \\\\\n",
        "g & h & i\n",
        "\\end{vmatrix} =\n",
        "a \\begin{vmatrix}\n",
        "e & f \\\\\n",
        "h & i\n",
        "\\end{vmatrix} - b \\begin{vmatrix}\n",
        "d & f \\\\\n",
        "g & i\n",
        "\\end{vmatrix} + c \\begin{vmatrix}\n",
        "d & e \\\\\n",
        "g & h\n",
        "\\end{vmatrix} = a(ei - fh) - b(di - fg) + c(dh - eg)\n",
        "$$\n"
      ]
    },
    {
      "cell_type": "code",
      "execution_count": 49,
      "metadata": {
        "colab": {
          "base_uri": "https://localhost:8080/"
        },
        "id": "yEfuS9ZKtdSi",
        "outputId": "007034aa-a282-44b6-97de-9449508446fb"
      },
      "outputs": [
        {
          "name": "stdout",
          "output_type": "stream",
          "text": [
            "tensor([[3., 9., 4.],\n",
            "        [0., 5., 7.],\n",
            "        [5., 9., 9.]])\n"
          ]
        },
        {
          "data": {
            "text/plain": [
              "tensor(161.)"
            ]
          },
          "execution_count": 49,
          "metadata": {},
          "output_type": "execute_result"
        }
      ],
      "source": [
        "matrix_det = torch.randint(size=(3,3), low=0, high=10, dtype=torch.float32)\n",
        "print(matrix_det)\n",
        "\n",
        "# determinant\n",
        "torch.det(matrix_det)"
      ]
    },
    {
      "cell_type": "markdown",
      "metadata": {
        "id": "VO3rhPGFQXT9"
      },
      "source": [
        "⭕ `inverse`"
      ]
    },
    {
      "cell_type": "markdown",
      "metadata": {
        "id": "DszZxZ_-zZKj"
      },
      "source": [
        "$$\n",
        "\\text{If } A = \\begin{bmatrix}\n",
        "a & b \\\\\n",
        "c & d\n",
        "\\end{bmatrix} \\text{, then, if } ad - bc \\neq 0, \\quad\n",
        "A^{-1} = \\frac{1}{ad - bc} \\begin{bmatrix}\n",
        "d & -b \\\\\n",
        "-c & a\n",
        "\\end{bmatrix}\n",
        "$$"
      ]
    },
    {
      "cell_type": "code",
      "execution_count": 50,
      "metadata": {
        "colab": {
          "base_uri": "https://localhost:8080/"
        },
        "id": "3tLV90PuV2WN",
        "outputId": "09f04c6f-6421-4f42-e730-559842f6c1c4"
      },
      "outputs": [
        {
          "name": "stdout",
          "output_type": "stream",
          "text": [
            "Original Matrix:\n",
            "tensor([[ 7.,  2.],\n",
            "        [17.,  5.]])\n",
            "\n",
            "Inverse Matrix:\n",
            "tensor([[  5.0000,  -2.0000],\n",
            "        [-17.0000,   7.0000]])\n"
          ]
        }
      ],
      "source": [
        "m = torch.tensor([[7, 2],\n",
        "                 [17, 5]], dtype=torch.float32)\n",
        "\n",
        "inverse_matrix = torch.inverse(m)\n",
        "\n",
        "print(\"Original Matrix:\")\n",
        "print(m)\n",
        "\n",
        "print(\"\\nInverse Matrix:\")\n",
        "print(inverse_matrix)"
      ]
    },
    {
      "cell_type": "markdown",
      "metadata": {
        "id": "-lEkBmv5t1nB"
      },
      "source": [
        "### **5. Comparison operations**"
      ]
    },
    {
      "cell_type": "code",
      "execution_count": 51,
      "metadata": {
        "colab": {
          "base_uri": "https://localhost:8080/"
        },
        "id": "F5v--5uiuBWW",
        "outputId": "bc4ef74a-0e33-470d-e5d7-99b30c4fcd88"
      },
      "outputs": [
        {
          "name": "stdout",
          "output_type": "stream",
          "text": [
            "Tensor i:\n",
            "tensor([[1, 2, 3],\n",
            "        [4, 5, 6]])\n",
            "Tensor j:\n",
            "tensor([[1, 2, 3],\n",
            "        [3, 2, 1]])\n",
            "i > j:\n",
            "tensor([[False, False, False],\n",
            "        [ True,  True,  True]])\n",
            "i < j:\n",
            "tensor([[False, False, False],\n",
            "        [False, False, False]])\n",
            "i == j:\n",
            "tensor([[ True,  True,  True],\n",
            "        [False, False, False]])\n",
            "i != j:\n",
            "tensor([[False, False, False],\n",
            "        [ True,  True,  True]])\n",
            "i >= j:\n",
            "tensor([[True, True, True],\n",
            "        [True, True, True]])\n",
            "i <= j:\n",
            "tensor([[ True,  True,  True],\n",
            "        [False, False, False]])\n"
          ]
        }
      ],
      "source": [
        "# i = torch.randint(size=(2,3), low=0, high=10)\n",
        "# j = torch.randint(size=(2,3), low=0, high=10)\n",
        "\n",
        "# Creating simple tensors\n",
        "i = torch.tensor([[1, 2, 3], [4, 5, 6]])\n",
        "j = torch.tensor([[1, 2, 3], [3, 2, 1]])\n",
        "\n",
        "print(\"Tensor i:\")\n",
        "print(i)\n",
        "print(\"Tensor j:\")\n",
        "print(j)\n",
        "\n",
        "# Greater than\n",
        "print(\"i > j:\")\n",
        "print(i > j)\n",
        "\n",
        "# Less than\n",
        "print(\"i < j:\")\n",
        "print(i < j)\n",
        "\n",
        "# Equal to\n",
        "print(\"i == j:\")\n",
        "print(i == j)\n",
        "\n",
        "# Not equal to\n",
        "print(\"i != j:\")\n",
        "print(i != j)\n",
        "\n",
        "# Greater than or equal to\n",
        "print(\"i >= j:\")\n",
        "print(i >= j)\n",
        "\n",
        "# Less than or equal to\n",
        "print(\"i <= j:\")\n",
        "print(i <= j)"
      ]
    },
    {
      "cell_type": "markdown",
      "metadata": {
        "id": "jd9JzlO1uaf3"
      },
      "source": [
        "### **6. Special functions**"
      ]
    },
    {
      "cell_type": "markdown",
      "metadata": {
        "id": "iS6-Z2_bYskG"
      },
      "source": [
        "- **Logarithm**: $ \\text{torch.log}(x) = \\ln(x) $ (Natural logarithm of $x$)  \n",
        "- **Exponential**: $ \\text{torch.exp}(x) = e^x $ (Exponential of $x$)  \n",
        "- **Square Root**: $ \\text{torch.sqrt}(x) = \\sqrt{x} $ (Square root of $x$)  \n",
        "- **Sigmoid**: $ \\text{torch.sigmoid}(x) = \\frac{1}{1 + e^{-x}} $ (S-shaped activation function)  \n",
        "- **Softmax**: $ \\text{torch.softmax}(x_i) = \\frac{e^{x_i}}{\\sum_{j} e^{x_j}} $ (Converts logits to probabilities)  \n",
        "- **ReLU (Rectified Linear Unit)**: $ \\text{torch.relu}(x) = \\max(0, x) $ (Keeps positive values, sets negative to 0)  \n"
      ]
    },
    {
      "cell_type": "code",
      "execution_count": 52,
      "metadata": {
        "colab": {
          "base_uri": "https://localhost:8080/"
        },
        "id": "yJcaFREJYbnG",
        "outputId": "96c7f718-2683-45bd-977e-2a15c9021c3a"
      },
      "outputs": [
        {
          "name": "stdout",
          "output_type": "stream",
          "text": [
            "Original Tensor (k):\n",
            "tensor([[ 1.,  2.,  3.],\n",
            "        [ 4., -5., -6.]])\n",
            "\n",
            "Logarithm (torch.log):\n",
            "tensor([[0.0000, 0.6931, 1.0986],\n",
            "        [1.3863,    nan,    nan]])\n",
            "\n",
            "Exponential (torch.exp):\n",
            "tensor([[2.7183e+00, 7.3891e+00, 2.0086e+01],\n",
            "        [5.4598e+01, 6.7379e-03, 2.4788e-03]])\n",
            "\n",
            "Square Root (torch.sqrt):\n",
            "tensor([[1.0000, 1.4142, 1.7321],\n",
            "        [2.0000,    nan,    nan]])\n",
            "\n",
            "Sigmoid (torch.sigmoid):\n",
            "tensor([[0.7311, 0.8808, 0.9526],\n",
            "        [0.9820, 0.0067, 0.0025]])\n",
            "\n",
            "Softmax along dimension 0 (torch.softmax):\n",
            "tensor([[4.7426e-02, 9.9909e-01, 9.9988e-01],\n",
            "        [9.5257e-01, 9.1105e-04, 1.2339e-04]])\n",
            "\n",
            "Softmax along dimension 1 (torch.softmax):\n",
            "tensor([[9.0031e-02, 2.4473e-01, 6.6524e-01],\n",
            "        [9.9983e-01, 1.2339e-04, 4.5392e-05]])\n",
            "\n",
            "ReLU (torch.relu):\n",
            "tensor([[1., 2., 3.],\n",
            "        [4., 0., 0.]])\n",
            "\n"
          ]
        }
      ],
      "source": [
        "# Creating a simple tensor\n",
        "k = torch.tensor([[1, 2, 3], [4, -5, -6]], dtype=torch.float32)\n",
        "\n",
        "# Display the tensor\n",
        "print(\"Original Tensor (k):\")\n",
        "print(k)\n",
        "print()\n",
        "\n",
        "# Logarithm\n",
        "print(\"Logarithm (torch.log):\")\n",
        "print(torch.log(k))  # Natural logarithm\n",
        "print()\n",
        "\n",
        "# Exponential\n",
        "print(\"Exponential (torch.exp):\")\n",
        "print(torch.exp(k))  # e^x\n",
        "print()\n",
        "\n",
        "# Square Root\n",
        "print(\"Square Root (torch.sqrt):\")\n",
        "print(torch.sqrt(k))  # √x\n",
        "print()\n",
        "\n",
        "# Sigmoid\n",
        "print(\"Sigmoid (torch.sigmoid):\")\n",
        "print(torch.sigmoid(k))  # 1 / (1 + e^(-x))\n",
        "print()\n",
        "\n",
        "# Softmax (along dimension 0)\n",
        "print(\"Softmax along dimension 0 (torch.softmax):\")\n",
        "print(torch.softmax(k, dim=0))  # Converts logits to probabilities along dim=0 (Columns)\n",
        "print()\n",
        "\n",
        "# Softmax (along dimension 1)\n",
        "print(\"Softmax along dimension 1 (torch.softmax):\")\n",
        "print(torch.softmax(k, dim=1))  # Converts logits to probabilities along dim=1 (Rows)\n",
        "print()\n",
        "\n",
        "# ReLU (Rectified Linear Unit)\n",
        "print(\"ReLU (torch.relu):\")\n",
        "print(torch.relu(k))  # ReLU operation (max(0, x))\n",
        "print()"
      ]
    },
    {
      "cell_type": "markdown",
      "metadata": {
        "id": "JQ7im-Mz9Mu9"
      },
      "source": [
        "## Inplace Operations"
      ]
    },
    {
      "cell_type": "markdown",
      "metadata": {
        "id": "CZzVQwyUy958"
      },
      "source": [
        "In PyTorch, methods with a trailing underscore (e.g., `add_`, `relu_`) perform **in-place operations**. This means they modify the original tensor's data directly instead of creating a new tensor."
      ]
    },
    {
      "cell_type": "code",
      "execution_count": 53,
      "metadata": {
        "colab": {
          "base_uri": "https://localhost:8080/"
        },
        "id": "YoYrOinEzENa",
        "outputId": "4d8a2ed9-0e57-4e0d-f550-b74ea9ca1475"
      },
      "outputs": [
        {
          "name": "stdout",
          "output_type": "stream",
          "text": [
            "tensor([6., 7., 8.])\n"
          ]
        }
      ],
      "source": [
        "x = torch.tensor([1.0, 2.0, 3.0])\n",
        "\n",
        "x.add_(5)  # Adds 5 to each element of x, modifying x in place\n",
        "print(x)"
      ]
    },
    {
      "cell_type": "code",
      "execution_count": 54,
      "metadata": {
        "colab": {
          "base_uri": "https://localhost:8080/"
        },
        "id": "8dIciHFWzfGb",
        "outputId": "79e4a06a-cf02-40c6-d5e9-2eca787da221"
      },
      "outputs": [
        {
          "name": "stdout",
          "output_type": "stream",
          "text": [
            "tensor([0., 0., 2.])\n"
          ]
        }
      ],
      "source": [
        "x = torch.tensor([-1.0, 0.0, 2.0])\n",
        "\n",
        "x.relu_() # Applies ReLU in place\n",
        "print(x)"
      ]
    },
    {
      "cell_type": "code",
      "execution_count": 55,
      "metadata": {
        "colab": {
          "base_uri": "https://localhost:8080/"
        },
        "id": "mKVMTBq7uufZ",
        "outputId": "9bf9b41f-3330-4ec7-e320-2ddca3356276"
      },
      "outputs": [
        {
          "name": "stdout",
          "output_type": "stream",
          "text": [
            "Initial Tensor m:  tensor([1, 2, 3])\n",
            "Initial Tensor n:  tensor([3, 2, 1])\n",
            "\n",
            "Tensro m after in-place addition:  tensor([4, 4, 4])\n",
            "Tensor n remains unchanged: tensor([3, 2, 1])\n"
          ]
        }
      ],
      "source": [
        "# Define two tensors\n",
        "m = torch.tensor([1, 2, 3])\n",
        "n = torch.tensor([3, 2, 1])\n",
        "\n",
        "# Display the original tensors\n",
        "print(\"Initial Tensor m: \", m)\n",
        "print(\"Initial Tensor n: \", n)\n",
        "\n",
        "# Perform in-place addition\n",
        "m.add_(n)\n",
        "\n",
        "# Display the results\n",
        "print(\"\\nTensro m after in-place addition: \", m)\n",
        "print(\"Tensor n remains unchanged:\", n)"
      ]
    },
    {
      "cell_type": "code",
      "execution_count": 56,
      "metadata": {
        "colab": {
          "base_uri": "https://localhost:8080/"
        },
        "id": "8OhePrDbAmwh",
        "outputId": "f0cb17f1-f3e3-4d82-862b-b3f661ea359c"
      },
      "outputs": [
        {
          "name": "stdout",
          "output_type": "stream",
          "text": [
            "Initial Tensor:  tensor([-1.,  2., -3.,  4., -5.])\n",
            "\n",
            "Tensor after in-place ReLU operation:  tensor([0., 2., 0., 4., 0.])\n"
          ]
        }
      ],
      "source": [
        "# Define a tensor\n",
        "tensor = torch.tensor([-1, 2, -3, 4, -5], dtype=torch.float)\n",
        "\n",
        "# Display the original tensor\n",
        "print(\"Initial Tensor: \", tensor)\n",
        "\n",
        "# Perform in-place ReLU operation\n",
        "tensor.relu_()\n",
        "\n",
        "# Display the results\n",
        "print(\"\\nTensor after in-place ReLU operation: \", tensor)"
      ]
    },
    {
      "cell_type": "markdown",
      "metadata": {
        "id": "7-SgjcqnCN9P"
      },
      "source": [
        "## **Copying a Tensor**"
      ]
    },
    {
      "cell_type": "markdown",
      "metadata": {
        "id": "1dIItMdXxETk"
      },
      "source": [
        "**what it is the problem with the asignent ooperater thiat is `a=b`?**\n",
        "\n",
        "When you use the assignment operator `a = b` in Python, it doesn't create a new copy of the data. Instead, it makes `a` and `b` point to the same object in memory. This means that any changes made to `a` will also affect `b`, and vice versa. This can lead to unintended side effects if you're not careful."
      ]
    },
    {
      "cell_type": "code",
      "execution_count": 57,
      "metadata": {
        "colab": {
          "base_uri": "https://localhost:8080/"
        },
        "id": "oG6u2bov2tQt",
        "outputId": "3a44bd63-6108-49d8-a465-b04b871da32c"
      },
      "outputs": [
        {
          "name": "stdout",
          "output_type": "stream",
          "text": [
            "Befor the assignement operation Tensor `a`:  tensor([1, 2, 3])\n",
            "Original Tensor a : tensor([0, 2, 3])\n",
            "Assigned Tensor b : tensor([0, 2, 3])\n",
            "ID of a:  133717964615856\n",
            "ID of b:  133717964615856\n",
            "True\n"
          ]
        }
      ],
      "source": [
        "import torch\n",
        "\n",
        "# Creating a tensor\n",
        "a = torch.tensor([1, 2, 3])\n",
        "print(\"Befor the assignement operation Tensor `a`: \", a)\n",
        "\n",
        "b = a\n",
        "\n",
        "# Modifying the assigned tensor\n",
        "a[0] = 0\n",
        "\n",
        "print(\"Original Tensor a :\", a)\n",
        "print(\"Assigned Tensor b :\", b)\n",
        "\n",
        "print(\"ID of a: \", id(a))\n",
        "print(\"ID of b: \", id(b))\n",
        "\n",
        "print(id(a)==id(b))"
      ]
    },
    {
      "cell_type": "code",
      "execution_count": 58,
      "metadata": {
        "colab": {
          "base_uri": "https://localhost:8080/"
        },
        "id": "z8SCsW7kA0jt",
        "outputId": "be0cae46-3613-49ea-ccc4-0c9c62b8196f"
      },
      "outputs": [
        {
          "name": "stdout",
          "output_type": "stream",
          "text": [
            "tensor([[0.0000, 0.0447, 0.5123],\n",
            "        [0.9051, 0.5989, 0.4450]])\n",
            "tensor([[0.0000, 0.0447, 0.5123],\n",
            "        [0.9051, 0.5989, 0.4450]])\n",
            "ID of a:  133717964615952\n",
            "ID of b:  133717964615952\n",
            "True\n"
          ]
        }
      ],
      "source": [
        "a = torch.rand(2,3)\n",
        "b = a\n",
        "a[0][0] = 0\n",
        "\n",
        "print(a)\n",
        "print(b)\n",
        "\n",
        "print(\"ID of a: \", id(a))\n",
        "print(\"ID of b: \", id(b))\n",
        "\n",
        "print(id(a)==id(b))"
      ]
    },
    {
      "cell_type": "markdown",
      "metadata": {
        "id": "Ybni_paywkDJ"
      },
      "source": [
        "⭕ `clone()`"
      ]
    },
    {
      "cell_type": "markdown",
      "metadata": {
        "id": "cW9B3xMqvRxw"
      },
      "source": [
        "- `a.clone()` method is used to create a copy of a tensor `a`. This is particularly useful when you want to modify a tensor without affecting the original one. **For example**, if you want to perform operations on a tensor but keep the original tensor unchanged, you can use `a.clone()` to create a separate copy."
      ]
    },
    {
      "cell_type": "code",
      "execution_count": 59,
      "metadata": {
        "colab": {
          "base_uri": "https://localhost:8080/"
        },
        "id": "KWDEt8h8EW2i",
        "outputId": "04b79bb0-aaea-473c-9397-0d76f2d1ccbe"
      },
      "outputs": [
        {
          "name": "stdout",
          "output_type": "stream",
          "text": [
            "tensor([10,  2,  3])\n",
            "tensor([1, 2, 3])\n",
            "ID of a:  133717964616048\n",
            "ID of b:  133717964615664\n",
            "False\n"
          ]
        }
      ],
      "source": [
        "a = torch.tensor([1, 2, 3])\n",
        "b = a.clone()\n",
        "\n",
        "a[0] = 10\n",
        "\n",
        "print(a)\n",
        "print(b)\n",
        "\n",
        "print(\"ID of a: \", id(a))\n",
        "print(\"ID of b: \", id(b))\n",
        "\n",
        "print(id(a)==id(b))"
      ]
    },
    {
      "cell_type": "markdown",
      "metadata": {
        "id": "oyByIHtLyWEN"
      },
      "source": [
        "## **Tensor operations on GPU**"
      ]
    },
    {
      "cell_type": "code",
      "execution_count": 60,
      "metadata": {
        "colab": {
          "base_uri": "https://localhost:8080/"
        },
        "id": "CjRAa2XYyc1B",
        "outputId": "da4fa5c3-5af3-400a-9399-453db69b11d6"
      },
      "outputs": [
        {
          "name": "stdout",
          "output_type": "stream",
          "text": [
            "True\n"
          ]
        }
      ],
      "source": [
        "import torch\n",
        "\n",
        "# Check if CUDA is available on the system\n",
        "print(torch.cuda.is_available())"
      ]
    },
    {
      "cell_type": "markdown",
      "metadata": {
        "id": "m4lRcVSd15AU"
      },
      "source": [
        "This code sets the device to GPU for PyTorch operations. The `torch.device(\"cuda\")` command specifies that the computations should be performed on a CUDA-enabled GPU, which can significantly speed up the processing."
      ]
    },
    {
      "cell_type": "code",
      "execution_count": 61,
      "metadata": {
        "colab": {
          "base_uri": "https://localhost:8080/"
        },
        "id": "OLT01xyA1yAi",
        "outputId": "f4f324e9-41d7-4fed-ca86-f8694e2a0696"
      },
      "outputs": [
        {
          "name": "stdout",
          "output_type": "stream",
          "text": [
            "tensor([[0.3563, 0.0303, 0.7088],\n",
            "        [0.2009, 0.0224, 0.9896]], device='cuda:0')\n"
          ]
        }
      ],
      "source": [
        "device = torch.device(\"cuda\")\n",
        "\n",
        "# Creating the tensor on GPU's VRAM\n",
        "tensor = torch.rand((2, 3), device=device)\n",
        "\n",
        "print(tensor)"
      ]
    },
    {
      "cell_type": "code",
      "execution_count": 62,
      "metadata": {
        "colab": {
          "base_uri": "https://localhost:8080/"
        },
        "id": "3DdTOApR2u6S",
        "outputId": "495dc3b5-1e8d-4dd3-f97b-18497a6550a5"
      },
      "outputs": [
        {
          "name": "stdout",
          "output_type": "stream",
          "text": [
            "tensor([10,  2,  3])\n",
            "tensor([10,  2,  3], device='cuda:0')\n"
          ]
        }
      ],
      "source": [
        "tensor = torch.rand(2, 3)\n",
        "print(a) # this tenosr exist on CPU\n",
        "\n",
        "# Moving the existing tensor to GPU\n",
        "b = a.to(device)\n",
        "print(b)"
      ]
    },
    {
      "cell_type": "code",
      "execution_count": 63,
      "metadata": {
        "colab": {
          "base_uri": "https://localhost:8080/"
        },
        "id": "7xzMowIe3HF6",
        "outputId": "f780246b-7ffc-48e5-e577-a47d8e399487"
      },
      "outputs": [
        {
          "name": "stdout",
          "output_type": "stream",
          "text": [
            "Time on CPU: 17.9147 sec\n",
            "Time on GPU: 0.6942 sec\n",
            "\n",
            "SpeedUp (CPU time / GPU time): 25.81\n"
          ]
        }
      ],
      "source": [
        "import torch\n",
        "import time\n",
        "\n",
        "# Define the size of the matrix\n",
        "size = 10000  # Large size for performance comparison\n",
        "\n",
        "# Create random matrices on CPU\n",
        "matrix_cpu1 = torch.randn(size, size)\n",
        "matrix_cpu2 = torch.randn(size, size)\n",
        "\n",
        "# Measure the time for matrix multiplication on CPU\n",
        "start_time_cpu = time.time()\n",
        "result_cpu = torch.matmul(matrix_cpu1, matrix_cpu2)  # Matrix multiplication on CPU\n",
        "end_time_cpu = time.time()\n",
        "cpu_time = end_time_cpu - start_time_cpu\n",
        "print(f\"Time on CPU: {cpu_time:.4f} sec\")\n",
        "\n",
        "# Move matrices to GPU\n",
        "matrix_gpu1 = matrix_cpu1.to(\"cuda\")\n",
        "matrix_gpu2 = matrix_cpu2.to(\"cuda\")\n",
        "\n",
        "# Synchronize to ensure all GPU operations are complete before starting the timer\n",
        "torch.cuda.synchronize()\n",
        "\n",
        "# Measure the time for matrix multiplication on GPU\n",
        "start_time_gpu = time.time()\n",
        "result_gpu = torch.matmul(matrix_gpu1, matrix_gpu2)  # Matrix multiplication on GPU\n",
        "\n",
        "# Synchronize to ensure all GPU operations are complete\n",
        "torch.cuda.synchronize()\n",
        "end_time_gpu = time.time()\n",
        "gpu_time = end_time_gpu - start_time_gpu\n",
        "print(f\"Time on GPU: {gpu_time:.4f} sec\")\n",
        "\n",
        "# Compare results\n",
        "print(f\"\\nSpeedUp (CPU time / GPU time): {cpu_time / gpu_time:.2f}\")"
      ]
    },
    {
      "cell_type": "markdown",
      "metadata": {
        "id": "oi41VaIK7Jcw"
      },
      "source": [
        "\n",
        "⭕`torch.cuda.synchronize()` makes sure that all tasks running on the GPU are completely finished before the program moves on. This is important when measuring how long a GPU operation takes.\n",
        "\n",
        "If you don’t use it, the program might only measure the time it takes to *send* the task to the GPU, not the time the GPU actually spends doing the work. This can give you incorrect or misleading results about the operation’s speed."
      ]
    },
    {
      "cell_type": "markdown",
      "metadata": {
        "id": "J67iMcEC9nEB"
      },
      "source": [
        "## **Reshaping Tensors**"
      ]
    },
    {
      "cell_type": "markdown",
      "metadata": {
        "id": "M9eZPb9KqBwA"
      },
      "source": [
        "### ✅**Example 1:** Flatten a 2D tensor into 1D"
      ]
    },
    {
      "cell_type": "code",
      "execution_count": 64,
      "metadata": {
        "colab": {
          "base_uri": "https://localhost:8080/"
        },
        "id": "N2LsYbJFqrBe",
        "outputId": "ec5e2408-68ff-42d8-9ff2-abbe6121acbd"
      },
      "outputs": [
        {
          "name": "stdout",
          "output_type": "stream",
          "text": [
            "torch.Size([2, 3])\n",
            "tensor([1, 2, 3, 4, 5, 6])\n",
            "torch.Size([6])\n"
          ]
        }
      ],
      "source": [
        "x = torch.tensor([[1, 2, 3], [4, 5, 6]])\n",
        "print(x.shape)  # (2, 3)\n",
        "\n",
        "y = x.reshape(-1)\n",
        "print(y)         # tensor([1, 2, 3, 4, 5, 6])\n",
        "print(y.shape)   # torch.Size([6])"
      ]
    },
    {
      "cell_type": "markdown",
      "metadata": {
        "id": "eAjDVyEFqNIe"
      },
      "source": [
        "### ✅**Example 2:** Convert 1D tensor into 2D `column` vector"
      ]
    },
    {
      "cell_type": "code",
      "execution_count": 65,
      "metadata": {
        "colab": {
          "base_uri": "https://localhost:8080/"
        },
        "id": "b7CX7alxqrb-",
        "outputId": "94d95061-c89c-4f09-9fd7-00af4fb27c20"
      },
      "outputs": [
        {
          "name": "stdout",
          "output_type": "stream",
          "text": [
            "torch.Size([4])\n",
            "tensor([[1],\n",
            "        [2],\n",
            "        [3],\n",
            "        [4]])\n",
            "torch.Size([4, 1])\n"
          ]
        }
      ],
      "source": [
        "x = torch.tensor([1, 2, 3, 4])\n",
        "print(x.shape)  # (4,)\n",
        "\n",
        "y = x.reshape(-1, 1)\n",
        "print(y)\n",
        "# tensor([[1],\n",
        "#         [2],\n",
        "#         [3],\n",
        "#         [4]])\n",
        "print(y.shape)  # torch.Size([4, 1])"
      ]
    },
    {
      "cell_type": "markdown",
      "metadata": {
        "id": "wxWh51DvqbqG"
      },
      "source": [
        "### ✅**Example 3:** Convert 1D tensor into 2D `row` vector"
      ]
    },
    {
      "cell_type": "code",
      "execution_count": 66,
      "metadata": {
        "colab": {
          "base_uri": "https://localhost:8080/"
        },
        "id": "Y3jS98wIqsh2",
        "outputId": "e45b1f71-d7ea-4de9-ab72-eafcdca79014"
      },
      "outputs": [
        {
          "name": "stdout",
          "output_type": "stream",
          "text": [
            "torch.Size([4])\n",
            "tensor([[1, 2, 3, 4]])\n",
            "torch.Size([1, 4])\n"
          ]
        }
      ],
      "source": [
        "x = torch.tensor([1, 2, 3, 4])\n",
        "print(x.shape)  # (4,)\n",
        "\n",
        "y = x.reshape(1, -1)\n",
        "print(y)\n",
        "\n",
        "# tensor([[1, 2, 3, 4]])\n",
        "print(y.shape)  # torch.Size([1, 4])"
      ]
    },
    {
      "cell_type": "markdown",
      "metadata": {
        "id": "aEmrkh8sq9k1"
      },
      "source": [
        "### ✅**Example 4:** 3D reshape"
      ]
    },
    {
      "cell_type": "code",
      "execution_count": 67,
      "metadata": {
        "colab": {
          "base_uri": "https://localhost:8080/"
        },
        "id": "tX2sgVDZrFmH",
        "outputId": "60385a6c-3261-40bc-e7c8-c8df46ad27f1"
      },
      "outputs": [
        {
          "name": "stdout",
          "output_type": "stream",
          "text": [
            "tensor([[[ 0,  1,  2,  3],\n",
            "         [ 4,  5,  6,  7],\n",
            "         [ 8,  9, 10, 11]],\n",
            "\n",
            "        [[12, 13, 14, 15],\n",
            "         [16, 17, 18, 19],\n",
            "         [20, 21, 22, 23]]])\n",
            "torch.Size([2, 3, 4])\n"
          ]
        }
      ],
      "source": [
        "x = torch.arange(24)  # tensor([0, 1, ..., 23])\n",
        "y = x.reshape(2, 3, 4)\n",
        "\n",
        "print(y)\n",
        "print(y.shape)  # torch.Size([2, 3, 4])"
      ]
    },
    {
      "cell_type": "markdown",
      "metadata": {
        "id": "Q077etiJ_FQW"
      },
      "source": [
        "⭕ `reshape()`"
      ]
    },
    {
      "cell_type": "code",
      "execution_count": 70,
      "metadata": {
        "colab": {
          "base_uri": "https://localhost:8080/"
        },
        "id": "ntgCXNHd4_kz",
        "outputId": "1f528013-7d15-4519-e1d9-8bd2d1e9251e"
      },
      "outputs": [
        {
          "name": "stdout",
          "output_type": "stream",
          "text": [
            "tensor([[1., 1., 1., 1.],\n",
            "        [1., 1., 1., 1.],\n",
            "        [1., 1., 1., 1.],\n",
            "        [1., 1., 1., 1.]]) torch.Size([4, 4])\n",
            "tensor([[[[1., 1.],\n",
            "          [1., 1.]],\n",
            "\n",
            "         [[1., 1.],\n",
            "          [1., 1.]]],\n",
            "\n",
            "\n",
            "        [[[1., 1.],\n",
            "          [1., 1.]],\n",
            "\n",
            "         [[1., 1.],\n",
            "          [1., 1.]]]]) torch.Size([2, 2, 2, 2])\n"
          ]
        }
      ],
      "source": [
        "import torch\n",
        "\n",
        "a = torch.ones(4, 4)\n",
        "print(a, a.shape)\n",
        "\n",
        "# Reshaping the Tensor\n",
        "b = a.reshape(2, 2, 2, 2)\n",
        "print(b, b.shape)"
      ]
    },
    {
      "cell_type": "markdown",
      "metadata": {
        "id": "saAKGYd8_Omj"
      },
      "source": [
        "⭕ `flatten()`"
      ]
    },
    {
      "cell_type": "code",
      "execution_count": 71,
      "metadata": {
        "colab": {
          "base_uri": "https://localhost:8080/"
        },
        "id": "Lvn93gIE-aer",
        "outputId": "95031eeb-e6bd-4270-c8b7-d3ad608734d5"
      },
      "outputs": [
        {
          "name": "stdout",
          "output_type": "stream",
          "text": [
            "tensor([1., 1., 1., 1., 1., 1., 1., 1., 1., 1., 1., 1., 1., 1., 1., 1.]) torch.Size([16])\n"
          ]
        }
      ],
      "source": [
        "a = torch.ones(4, 4)\n",
        "b = a.flatten()\n",
        "\n",
        "print(b, b.shape)"
      ]
    },
    {
      "cell_type": "markdown",
      "metadata": {
        "id": "SoAQalUqGuoI"
      },
      "source": [
        "⭕ `permute()`: The permute function in PyTorch is used to rearrange the dimensions of a tensor."
      ]
    },
    {
      "cell_type": "code",
      "execution_count": 72,
      "metadata": {
        "colab": {
          "base_uri": "https://localhost:8080/"
        },
        "id": "TfeWKKlRFaNs",
        "outputId": "9fa06e16-75ae-46ba-ceaf-de56d79ff29e"
      },
      "outputs": [
        {
          "name": "stdout",
          "output_type": "stream",
          "text": [
            "Original tensor shape: torch.Size([2, 2, 3])\n",
            "Original tensor:\n",
            " tensor([[[ 1,  2,  3],\n",
            "         [ 4,  5,  6]],\n",
            "\n",
            "        [[ 7,  8,  9],\n",
            "         [10, 11, 12]]])\n",
            "\n",
            "Permuted tensor shape: torch.Size([3, 2, 2])\n",
            "Permuted tensor:\n",
            " tensor([[[ 1,  4],\n",
            "         [ 7, 10]],\n",
            "\n",
            "        [[ 2,  5],\n",
            "         [ 8, 11]],\n",
            "\n",
            "        [[ 3,  6],\n",
            "         [ 9, 12]]])\n",
            "\n",
            "Permuted tensor shape: torch.Size([3, 2, 2])\n",
            "Permuted tensor:\n",
            " tensor([[[ 1,  7],\n",
            "         [ 4, 10]],\n",
            "\n",
            "        [[ 2,  8],\n",
            "         [ 5, 11]],\n",
            "\n",
            "        [[ 3,  9],\n",
            "         [ 6, 12]]])\n"
          ]
        }
      ],
      "source": [
        "import torch\n",
        "\n",
        "# Create a 3D tensor\n",
        "tensor = torch.tensor([[[1, 2, 3], [4, 5, 6]],\n",
        "                       [[7, 8, 9], [10, 11, 12]]])\n",
        "\n",
        "print(\"Original tensor shape:\", tensor.shape)\n",
        "print(\"Original tensor:\\n\", tensor)\n",
        "\n",
        "# Permute the dimensions\n",
        "permuted_tensor1 = tensor.permute(2, 0, 1)\n",
        "permuted_tensor2 = tensor.permute(2, 1, 0)\n",
        "\n",
        "print(\"\\nPermuted tensor shape:\", permuted_tensor1.shape)\n",
        "print(\"Permuted tensor:\\n\", permuted_tensor1)\n",
        "\n",
        "print(\"\\nPermuted tensor shape:\", permuted_tensor2.shape)\n",
        "print(\"Permuted tensor:\\n\", permuted_tensor2)"
      ]
    },
    {
      "cell_type": "markdown",
      "metadata": {
        "id": "Q76ExypyKWs3"
      },
      "source": [
        "⭕`unsqueeze`: The unsqueeze function in PyTorch is used to add a dimension of size 1 at a specified position. This can be useful for aligning tensors with different shapes"
      ]
    },
    {
      "cell_type": "code",
      "execution_count": 73,
      "metadata": {
        "colab": {
          "base_uri": "https://localhost:8080/"
        },
        "id": "HsMtoCVPrrZ8",
        "outputId": "a9aaee7a-bab9-49c1-e290-4c9a16a9bc84"
      },
      "outputs": [
        {
          "name": "stdout",
          "output_type": "stream",
          "text": [
            "tensor([[1, 2],\n",
            "        [3, 4]]) torch.Size([2, 2])\n",
            "\n",
            " tensor([[[1, 2],\n",
            "         [3, 4]]]) torch.Size([1, 2, 2])\n",
            "\n",
            " tensor([[[1, 2]],\n",
            "\n",
            "        [[3, 4]]]) torch.Size([2, 1, 2])\n",
            "\n",
            " tensor([[[1],\n",
            "         [2]],\n",
            "\n",
            "        [[3],\n",
            "         [4]]]) torch.Size([2, 2, 1])\n"
          ]
        }
      ],
      "source": [
        "import torch\n",
        "\n",
        "# Create a simple 2D tensor\n",
        "t = torch.tensor([[1, 2], [3, 4]])\n",
        "\n",
        "# Print the tensor and its shape\n",
        "print(t, t.shape)\n",
        "\n",
        "# Unsqueeze to add a dimension at position 0\n",
        "print(\"\\n\", t.unsqueeze(0), t.unsqueeze(0).shape)\n",
        "# Unsqueeze to add a dimension at position 1\n",
        "print(\"\\n\", t.unsqueeze(1), t.unsqueeze(1).shape)\n",
        "# Unsqueeze to add a dimension at position 2\n",
        "print(\"\\n\", t.unsqueeze(2), t.unsqueeze(2).shape)"
      ]
    },
    {
      "cell_type": "code",
      "execution_count": 74,
      "metadata": {
        "colab": {
          "base_uri": "https://localhost:8080/"
        },
        "id": "ZnqpgbmJLe0c",
        "outputId": "18646ff5-d277-4c3e-aba2-12e1c0a8da41"
      },
      "outputs": [
        {
          "name": "stdout",
          "output_type": "stream",
          "text": [
            "tensor([[[1, 2],\n",
            "         [3, 4]],\n",
            "\n",
            "        [[5, 6],\n",
            "         [7, 8]]]) torch.Size([2, 2, 2])\n",
            "\n",
            " tensor([[[[1, 2],\n",
            "          [3, 4]],\n",
            "\n",
            "         [[5, 6],\n",
            "          [7, 8]]]]) torch.Size([1, 2, 2, 2])\n",
            "\n",
            " tensor([[[[1, 2],\n",
            "          [3, 4]]],\n",
            "\n",
            "\n",
            "        [[[5, 6],\n",
            "          [7, 8]]]]) torch.Size([2, 1, 2, 2])\n",
            "\n",
            " tensor([[[[1, 2]],\n",
            "\n",
            "         [[3, 4]]],\n",
            "\n",
            "\n",
            "        [[[5, 6]],\n",
            "\n",
            "         [[7, 8]]]]) torch.Size([2, 2, 1, 2])\n"
          ]
        }
      ],
      "source": [
        "import torch\n",
        "\n",
        "# Create a 3D tensor\n",
        "t = torch.tensor([[[1, 2], [3, 4]], [[5, 6], [7, 8]]])\n",
        "\n",
        "# Print the tensor and its shape\n",
        "print(t, t.shape)\n",
        "\n",
        "# Unsqueeze to add a dimension at position 0\n",
        "print(\"\\n\", t.unsqueeze(0), t.unsqueeze(0).shape)\n",
        "# Unsqueeze to add a dimension at position 1\n",
        "print(\"\\n\", t.unsqueeze(1), t.unsqueeze(1).shape)\n",
        "# Unsqueeze to add a dimension at position 2\n",
        "print(\"\\n\", t.unsqueeze(2), t.unsqueeze(2).shape)"
      ]
    },
    {
      "cell_type": "code",
      "execution_count": 75,
      "metadata": {
        "colab": {
          "base_uri": "https://localhost:8080/"
        },
        "id": "ma1kMJJzpGHB",
        "outputId": "f4752825-b52d-4730-d70e-96803cb0a281"
      },
      "outputs": [
        {
          "name": "stdout",
          "output_type": "stream",
          "text": [
            "Original tensor shape: torch.Size([226, 226, 3])\n",
            "\n",
            "Shape after unsqueeze(0): torch.Size([1, 226, 226, 3])\n",
            "\n",
            "Shape after unsqueeze(1): torch.Size([226, 1, 226, 3])\n",
            "\n",
            "Shape after unsqueeze(2): torch.Size([226, 226, 1, 3])\n"
          ]
        }
      ],
      "source": [
        "import torch\n",
        "\n",
        "# unsqueeze image size\n",
        "i = torch.rand(226, 226, 3)\n",
        "\n",
        "# Print the tensor shapes\n",
        "print(\"Original tensor shape:\",i.shape)\n",
        "print(\"\\nShape after unsqueeze(0):\", i.unsqueeze(0).shape)\n",
        "print(\"\\nShape after unsqueeze(1):\", i.unsqueeze(1).shape)\n",
        "print(\"\\nShape after unsqueeze(2):\", i.unsqueeze(2).shape)\n"
      ]
    },
    {
      "cell_type": "markdown",
      "metadata": {
        "id": "nNy1H_c7sqd9"
      },
      "source": [
        "⭕`squeeze`: this operation removes dimensions with size 1 from the tensor."
      ]
    },
    {
      "cell_type": "code",
      "execution_count": 76,
      "metadata": {
        "colab": {
          "base_uri": "https://localhost:8080/"
        },
        "id": "Zec6lleOs2q8",
        "outputId": "9ab68f91-9a7b-4c34-edd9-40ccdd0f86e1"
      },
      "outputs": [
        {
          "name": "stdout",
          "output_type": "stream",
          "text": [
            "tensor([[[1, 2]],\n",
            "\n",
            "        [[3, 4]]]) torch.Size([2, 1, 2])\n",
            "\n",
            " tensor([[[1, 2]],\n",
            "\n",
            "        [[3, 4]]]) torch.Size([2, 1, 2])\n",
            "\n",
            " tensor([[1, 2],\n",
            "        [3, 4]]) torch.Size([2, 2])\n",
            "\n",
            " tensor([[[1, 2]],\n",
            "\n",
            "        [[3, 4]]]) torch.Size([2, 1, 2])\n"
          ]
        }
      ],
      "source": [
        "import torch\n",
        "\n",
        "# Create a simple 3D tensor with a size of 1 in one of the dimensions\n",
        "t = torch.tensor([[[1, 2]], [[3, 4]]])\n",
        "\n",
        "# Print the tensor and its shape\n",
        "# Squeeze to remove dimensions with size 1\n",
        "print(t, t.shape)\n",
        "print(\"\\n\", t.squeeze(0), t.squeeze(0).shape)\n",
        "print(\"\\n\", t.squeeze(1), t.squeeze(1).shape)\n",
        "print(\"\\n\", t.squeeze(2), t.squeeze(2).shape)"
      ]
    },
    {
      "cell_type": "code",
      "execution_count": 77,
      "metadata": {
        "colab": {
          "base_uri": "https://localhost:8080/"
        },
        "id": "XLp0Ps9Os_Gi",
        "outputId": "09ccfa5b-954f-4c51-c4e2-64fd84edc36f"
      },
      "outputs": [
        {
          "name": "stdout",
          "output_type": "stream",
          "text": [
            "tensor([[1, 2],\n",
            "        [3, 4],\n",
            "        [5, 6]]) torch.Size([3, 2])\n",
            "\n",
            " tensor([[[1, 2]],\n",
            "\n",
            "        [[3, 4]],\n",
            "\n",
            "        [[5, 6]]]) torch.Size([3, 1, 2])\n",
            "\n",
            " tensor([[1, 2],\n",
            "        [3, 4],\n",
            "        [5, 6]]) torch.Size([3, 2])\n"
          ]
        }
      ],
      "source": [
        "import torch\n",
        "\n",
        "# Create a 2D tensor\n",
        "t = torch.tensor([[1, 2], [3, 4], [5, 6]])  # Shape will be (3, 2)\n",
        "print(t, t.shape)\n",
        "\n",
        "# Add a dimension with size 1\n",
        "t = t.unsqueeze(1)                          # Shape becomes (3, 1, 2)\n",
        "\n",
        "# Print the tensor and its shape\n",
        "print(\"\\n\", t, t.shape)\n",
        "\n",
        "# Squeeze to remove dimensions with size 1\n",
        "print(\"\\n\", t.squeeze(1), t.squeeze(1).shape)"
      ]
    },
    {
      "cell_type": "code",
      "execution_count": 78,
      "metadata": {
        "colab": {
          "base_uri": "https://localhost:8080/"
        },
        "id": "1qmXj8EYw8cP",
        "outputId": "39686792-4e97-4b71-c732-5e7dac201f9c"
      },
      "outputs": [
        {
          "name": "stdout",
          "output_type": "stream",
          "text": [
            "tensor([[0.3316, 0.6414, 0.1981, 0.7998]])\n",
            "\n",
            " tensor([0.3316, 0.6414, 0.1981, 0.7998])\n",
            "\n",
            " torch.Size([1, 4]) torch.Size([4])\n"
          ]
        }
      ],
      "source": [
        "d = torch.rand(1, 4)\n",
        "\n",
        "print(d)\n",
        "print(\"\\n\", d.squeeze(0))\n",
        "print(\"\\n\", d.shape, d.squeeze(0).shape)"
      ]
    },
    {
      "cell_type": "code",
      "execution_count": 79,
      "metadata": {
        "colab": {
          "base_uri": "https://localhost:8080/"
        },
        "id": "cBYspOq9uaJ6",
        "outputId": "b7346867-2255-47cb-f9cb-8d724d988f47"
      },
      "outputs": [
        {
          "name": "stdout",
          "output_type": "stream",
          "text": [
            "tensor([[[0.5949, 0.4458],\n",
            "         [0.2918, 0.5932]]])\n",
            "\n",
            " tensor([[0.5949, 0.4458],\n",
            "        [0.2918, 0.5932]])\n",
            "\n",
            " torch.Size([1, 2, 2]) torch.Size([2, 2])\n"
          ]
        }
      ],
      "source": [
        "d = torch.rand(1, 2, 2)\n",
        "\n",
        "print(d)\n",
        "print(\"\\n\", d.squeeze(0))\n",
        "print(\"\\n\", d.shape, d.squeeze(0).shape)"
      ]
    },
    {
      "cell_type": "code",
      "execution_count": 80,
      "metadata": {
        "colab": {
          "base_uri": "https://localhost:8080/"
        },
        "id": "OKIk7kKmwX5-",
        "outputId": "0e65d00a-ea36-44e9-f0bb-ce05841faadb"
      },
      "outputs": [
        {
          "name": "stdout",
          "output_type": "stream",
          "text": [
            "tensor([[[0.6257, 0.5635, 0.4637],\n",
            "         [0.1684, 0.2545, 0.2938]]])\n",
            "\n",
            " tensor([[0.6257, 0.5635, 0.4637],\n",
            "        [0.1684, 0.2545, 0.2938]])\n",
            "\n",
            " torch.Size([1, 2, 3]) torch.Size([2, 3])\n"
          ]
        }
      ],
      "source": [
        "d = torch.rand(1, 2, 3)\n",
        "\n",
        "print(d)\n",
        "print(\"\\n\", d.squeeze(0))\n",
        "print(\"\\n\", d.shape, d.squeeze(0).shape)"
      ]
    },
    {
      "cell_type": "code",
      "execution_count": 81,
      "metadata": {
        "colab": {
          "base_uri": "https://localhost:8080/"
        },
        "id": "C7gU2n_wwxGe",
        "outputId": "f1ba4487-3e44-42f5-c5ee-b379774b1379"
      },
      "outputs": [
        {
          "name": "stdout",
          "output_type": "stream",
          "text": [
            "tensor([[[[0.6345, 0.8546],\n",
            "          [0.8584, 0.6476]],\n",
            "\n",
            "         [[0.5805, 0.8800],\n",
            "          [0.7746, 0.4605]]]])\n",
            "\n",
            " tensor([[[0.6345, 0.8546],\n",
            "         [0.8584, 0.6476]],\n",
            "\n",
            "        [[0.5805, 0.8800],\n",
            "         [0.7746, 0.4605]]])\n",
            "\n",
            " torch.Size([1, 2, 2, 2]) torch.Size([2, 2, 2])\n"
          ]
        }
      ],
      "source": [
        "d = torch.rand(1, 2, 2, 2)\n",
        "\n",
        "print(d)\n",
        "print(\"\\n\", d.squeeze(0))\n",
        "print(\"\\n\", d.shape, d.squeeze(0).shape)"
      ]
    },
    {
      "cell_type": "markdown",
      "metadata": {
        "id": "UuIJeo6WxVYN"
      },
      "source": [
        "## **Numpy $\\rightarrow$ PyTorch**"
      ]
    },
    {
      "cell_type": "code",
      "execution_count": 82,
      "metadata": {
        "colab": {
          "base_uri": "https://localhost:8080/"
        },
        "id": "91jbPksxxtsG",
        "outputId": "a12c5437-ed26-4c11-e357-85874980d9f9"
      },
      "outputs": [
        {
          "name": "stdout",
          "output_type": "stream",
          "text": [
            "NumPy Array:\n",
            "[1 2] Type: <class 'numpy.ndarray'>\n",
            "\n",
            "PyTorch Tensor:\n",
            "tensor([1, 2]) Type: <class 'torch.Tensor'>\n",
            "\n",
            "Converted Back to NumPy Array:\n",
            "[1 2] Type: <class 'numpy.ndarray'>\n"
          ]
        }
      ],
      "source": [
        "import torch\n",
        "import numpy as np\n",
        "\n",
        "# Create a NumPy array\n",
        "np_array = np.array([1, 2])\n",
        "\n",
        "# Convert to PyTorch tensor\n",
        "tensor = torch.from_numpy(np_array)\n",
        "\n",
        "# Print NumPy array and its type\n",
        "print(\"NumPy Array:\")\n",
        "print(np_array, \"Type:\", type(np_array))\n",
        "\n",
        "# Print PyTorch tensor and its type\n",
        "print(\"\\nPyTorch Tensor:\")\n",
        "print(tensor, \"Type:\", type(tensor))\n",
        "\n",
        "# Convert back to NumPy array\n",
        "np_array_back = tensor.numpy()\n",
        "\n",
        "# Print converted NumPy array and its type\n",
        "print(\"\\nConverted Back to NumPy Array:\")\n",
        "print(np_array_back, \"Type:\", type(np_array_back))"
      ]
    },
    {
      "cell_type": "markdown",
      "metadata": {
        "id": "EyRrRcFJxx_E"
      },
      "source": [
        "⚠️ **Device**: If the tensor is on a GPU (i.e., `torch.Tensor.cuda()`), you need to move it to the CPU first before calling `.numpy()`. You can do this using `.cpu()`:\n",
        "\n",
        "```python\n",
        "torch_tensor = torch_tensor.cuda()  # Example with a GPU tensor\n",
        "np_array = torch_tensor.cpu().numpy()\n",
        "\n",
        "```"
      ]
    },
    {
      "cell_type": "markdown",
      "metadata": {
        "id": "9r5M3NvqSrQe"
      },
      "source": [
        "## **view**"
      ]
    },
    {
      "cell_type": "markdown",
      "metadata": {
        "id": "gV88dyeLSx96"
      },
      "source": [
        "`.view()` and `.reshape()` are used to change the shape of tensors, but there are some important differences between them. Here's a clear explanation:\n",
        "\n",
        "\n",
        "🔍 `view()`\n",
        "- **Purpose**: Returns a new tensor with the same data but a different shape.\n",
        "- **Key Requirement**: The tensor must be contiguous in memory.\n",
        "- **Performance**: Fast, as it doesn’t copy data (just creates a new view).\n",
        "- **Error**: Will raise an error if the tensor is not contiguous."
      ]
    },
    {
      "cell_type": "code",
      "execution_count": 84,
      "metadata": {
        "colab": {
          "base_uri": "https://localhost:8080/"
        },
        "id": "FwujnXC5Stbl",
        "outputId": "844a164b-b16f-4ee5-d5cf-aa3009c81153"
      },
      "outputs": [
        {
          "name": "stdout",
          "output_type": "stream",
          "text": [
            "tensor([[ 0.4317, -0.3443,  0.1213],\n",
            "        [-0.4772, -0.0543, -0.6680]])\n",
            "tensor([[ 0.4317, -0.3443],\n",
            "        [ 0.1213, -0.4772],\n",
            "        [-0.0543, -0.6680]])\n"
          ]
        }
      ],
      "source": [
        "x = torch.randn(2, 3)\n",
        "x_view = x.view(3, 2)  # OK if x is contiguous\n",
        "\n",
        "print(x)\n",
        "print(x_view)"
      ]
    },
    {
      "cell_type": "markdown",
      "metadata": {
        "id": "nHqpVeJwWirs"
      },
      "source": [
        "> If `x` is not contiguous (e.g., `after.transpose()`), `x.view(...)` will raise an error."
      ]
    },
    {
      "cell_type": "code",
      "execution_count": 86,
      "metadata": {
        "colab": {
          "base_uri": "https://localhost:8080/"
        },
        "id": "W0CZfx0aWd4v",
        "outputId": "78200876-7670-4a65-868c-277254ddc067"
      },
      "outputs": [
        {
          "name": "stdout",
          "output_type": "stream",
          "text": [
            "tensor([[ 0.0171, -0.4359, -0.0984],\n",
            "        [ 1.4533, -0.2765,  0.8185]])\n",
            "tensor([[ 0.0171, -0.4359],\n",
            "        [-0.0984,  1.4533],\n",
            "        [-0.2765,  0.8185]])\n"
          ]
        }
      ],
      "source": [
        "x = torch.randn(2, 3)\n",
        "x_reshape = x.reshape(3, 2)  # Always works\n",
        "\n",
        "print(x)\n",
        "print(x_reshape)"
      ]
    },
    {
      "cell_type": "markdown",
      "metadata": {
        "id": "IwcYbNw7Wyed"
      },
      "source": [
        "**🤔 When to Use Which**\n",
        "\n",
        "| Situation                   | Use `.view()`             | Use `.reshape()`             |\n",
        "| --------------------------- | ------------------------- | ---------------------------- |\n",
        "| Tensor is contiguous        | ✅ Preferred (faster)      | ✅ Works, but may be overkill |\n",
        "| Tensor is not contiguous    | ❌ Raises error            | ✅ Works                      |\n",
        "| You want guaranteed success | ❌ Might fail              | ✅ Safe choice                |\n",
        "| Performance critical code   | ✅ If tensor is contiguous | ❌ Might copy, less efficient |\n"
      ]
    }
  ],
  "metadata": {
    "accelerator": "GPU",
    "colab": {
      "collapsed_sections": [
        "0ejaUWSkinz0",
        "wre7rSdlqsOB",
        "y2n84o2ZrGcY",
        "4vWfG_ZmsN0J",
        "dw_h9fvMtLXw",
        "-lEkBmv5t1nB",
        "jd9JzlO1uaf3"
      ],
      "gpuType": "T4",
      "provenance": [],
      "toc_visible": true
    },
    "kernelspec": {
      "display_name": "Python 3",
      "name": "python3"
    },
    "language_info": {
      "codemirror_mode": {
        "name": "ipython",
        "version": 3
      },
      "file_extension": ".py",
      "mimetype": "text/x-python",
      "name": "python",
      "nbconvert_exporter": "python",
      "pygments_lexer": "ipython3",
      "version": "3.11.2"
    }
  },
  "nbformat": 4,
  "nbformat_minor": 0
}
