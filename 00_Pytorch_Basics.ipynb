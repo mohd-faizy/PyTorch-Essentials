{
  "nbformat": 4,
  "nbformat_minor": 0,
  "metadata": {
    "colab": {
      "provenance": [],
      "toc_visible": true
    },
    "kernelspec": {
      "name": "python3",
      "display_name": "Python 3"
    },
    "language_info": {
      "name": "python"
    }
  },
  "cells": [
    {
      "cell_type": "markdown",
      "source": [
        "- `dim = 0`, which refers to the `columns` $\\downarrow$\n",
        "\n",
        "- `dim = 1`, which refers to the `rows` $\\rightarrow$"
      ],
      "metadata": {
        "id": "i1XgIe4jjxn2"
      }
    },
    {
      "cell_type": "markdown",
      "source": [
        "### **`torch.tensor()`**"
      ],
      "metadata": {
        "id": "kPDLO85bbkU0"
      }
    },
    {
      "cell_type": "markdown",
      "source": [
        "![tensor](https://static.javatpoint.com/tutorial/pytorch/images/pytorch-tensors.png)\n",
        "\n",
        "\n",
        "<br></br>\n",
        "\n",
        "![tensor](https://editor.analyticsvidhya.com/uploads/64798tensor.png)"
      ],
      "metadata": {
        "id": "IwYii_X5d8rz"
      }
    },
    {
      "cell_type": "code",
      "source": [
        "import torch\n",
        "\n",
        "# 0-dimensional tensor (scalar)\n",
        "scalar_tensor = torch.tensor(42)\n",
        "print(\"Scalar tensor:\", scalar_tensor)\n",
        "print(\"Dimensions:\", scalar_tensor.dim())\n",
        "\n",
        "# 1-dimensional tensor (vector)\n",
        "vector_tensor = torch.tensor([1, 2, 3, 4])\n",
        "print(\"\\nVector tensor:\", vector_tensor)\n",
        "print(\"Dimensions:\", vector_tensor.dim())\n",
        "\n",
        "# 2-dimensional tensor (matrix)\n",
        "matrix_tensor = torch.tensor([[1, 2], [3, 4], [5, 6]])\n",
        "print(\"\\nMatrix tensor:\")\n",
        "print(matrix_tensor)\n",
        "print(\"Dimensions:\", matrix_tensor.dim())\n",
        "\n",
        "# 3-dimensional tensor\n",
        "tensor_3d = torch.tensor([[[1, 2], [3, 4]], [[5, 6], [7, 8]]])\n",
        "print(\"\\n3D tensor:\")\n",
        "print(tensor_3d)\n",
        "print(\"Dimensions:\", tensor_3d.dim())\n",
        "\n",
        "# 4-dimensional tensor\n",
        "tensor_4d = torch.tensor([[[[1, 2], [3, 4]], [[5, 6], [7, 8]]], [[[9, 10], [11, 12]], [[13, 14], [15, 16]]]])\n",
        "print(\"\\n4D tensor:\")\n",
        "print(tensor_4d)\n",
        "print(\"Dimensions:\", tensor_4d.dim())\n"
      ],
      "metadata": {
        "colab": {
          "base_uri": "https://localhost:8080/"
        },
        "id": "UBAmNkujbuJM",
        "outputId": "af5aa050-8c6b-4ad5-d59f-f0dc60c3234d"
      },
      "execution_count": 8,
      "outputs": [
        {
          "output_type": "stream",
          "name": "stdout",
          "text": [
            "Scalar tensor: tensor(42)\n",
            "Dimensions: 0\n",
            "\n",
            "Vector tensor: tensor([1, 2, 3, 4])\n",
            "Dimensions: 1\n",
            "\n",
            "Matrix tensor:\n",
            "tensor([[1, 2],\n",
            "        [3, 4],\n",
            "        [5, 6]])\n",
            "Dimensions: 2\n",
            "\n",
            "3D tensor:\n",
            "tensor([[[1, 2],\n",
            "         [3, 4]],\n",
            "\n",
            "        [[5, 6],\n",
            "         [7, 8]]])\n",
            "Dimensions: 3\n",
            "\n",
            "4D tensor:\n",
            "tensor([[[[ 1,  2],\n",
            "          [ 3,  4]],\n",
            "\n",
            "         [[ 5,  6],\n",
            "          [ 7,  8]]],\n",
            "\n",
            "\n",
            "        [[[ 9, 10],\n",
            "          [11, 12]],\n",
            "\n",
            "         [[13, 14],\n",
            "          [15, 16]]]])\n",
            "Dimensions: 4\n"
          ]
        }
      ]
    },
    {
      "cell_type": "markdown",
      "source": [
        "### **`torch.squeeze()`**\n",
        "\n",
        "Remove dimensions of size 1 from the shape of a tensor."
      ],
      "metadata": {
        "id": "25XoNByYU8X0"
      }
    },
    {
      "cell_type": "code",
      "source": [
        "import torch\n",
        "\n",
        "input_tensor = torch.randn([32, 1, 28, 28], dtype=torch.float)\n",
        "print(\"Original size:\", input_tensor.size())\n",
        "\n",
        "squeezed_tensor = torch.squeeze(input_tensor)\n",
        "print(\"Size after squeeze:\", squeezed_tensor.size())"
      ],
      "metadata": {
        "colab": {
          "base_uri": "https://localhost:8080/"
        },
        "id": "4gVhw_NNVMKM",
        "outputId": "6904d6f7-a3ad-43b5-9fea-787ba25bd9de"
      },
      "execution_count": 1,
      "outputs": [
        {
          "output_type": "stream",
          "name": "stdout",
          "text": [
            "Original size: torch.Size([32, 1, 28, 28])\n",
            "Size after squeeze: torch.Size([32, 28, 28])\n"
          ]
        }
      ]
    },
    {
      "cell_type": "markdown",
      "source": [
        "### **`torch.unsqueeze()`**\n",
        "\n",
        "This function directly available in `TensorFlow`. However, in other frameworks like `PyTorch`, unsqueeze is used to add a dimension of size 1 at a specified axis. In `TensorFlow`, a similar effect can be achieved using `tf.expand_dims`."
      ],
      "metadata": {
        "id": "cfeVn9J1YSJy"
      }
    },
    {
      "cell_type": "markdown",
      "source": [
        "**1. Grey Scale**"
      ],
      "metadata": {
        "id": "kewpofiKZR4R"
      }
    },
    {
      "cell_type": "code",
      "source": [
        "input_tensor = torch.randn([32, 1, 28, 28], dtype=torch.float)\n",
        "print(\"Original size:\", input_tensor.size())\n",
        "\n",
        "first_tensor = input_tensor[0]\n",
        "print(\"Size before unsqueeze: \",first_tensor.shape)\n",
        "\n",
        "# unsqueeze_tensor_0 = torch.unsqueeze(x, 0)\n",
        "unsqueeze_tensor_0 = first_tensor.unsqueeze(dim=0)\n",
        "print(\"Size after unsqueeze at dim 0: \", unsqueeze_tensor_0.size())\n",
        "\n",
        "# unsqueeze_tensor_1 = torch.unsqueeze(x, 1)\n",
        "unsqueeze_tensor_1 = first_tensor.unsqueeze(dim=1)\n",
        "print(\"Size after unsqueeze at dim 1: \", unsqueeze_tensor_1.size())"
      ],
      "metadata": {
        "colab": {
          "base_uri": "https://localhost:8080/"
        },
        "id": "tvyM7oqpVUcl",
        "outputId": "5e778c25-6e60-47b3-fb21-4a6f8cd7e3a0"
      },
      "execution_count": 2,
      "outputs": [
        {
          "output_type": "stream",
          "name": "stdout",
          "text": [
            "Original size: torch.Size([32, 1, 28, 28])\n",
            "Size before unsqueeze:  torch.Size([1, 28, 28])\n",
            "Size after unsqueeze at dim 0:  torch.Size([1, 1, 28, 28])\n",
            "Size after unsqueeze at dim 1:  torch.Size([1, 1, 28, 28])\n"
          ]
        }
      ]
    },
    {
      "cell_type": "markdown",
      "source": [
        "The bottom two results are the same because both are adding a single batch dimension to a single-channel image. If first_tensor had more than one channel, the results of unsqueezing at different dimensions would be different. For example, if first_tensor was `[3, 28, 28]` (representing an `RGB` image), unsqueezing at dim 0 would result in `[1, 3, 28, 28]`, while unsqueezing at dim 1 would result in `[3, 1, 28, 28]`"
      ],
      "metadata": {
        "id": "YTn6oh-1X-qI"
      }
    },
    {
      "cell_type": "markdown",
      "source": [
        "**Note:** `unsqueeze_tensor_2 = x.unsqueeze(2)`\n",
        "\n",
        "- This will raise an IndexError as we are attemptting to unsqueeze the tensor at a dimension index that doesn’t exist for the given tensor."
      ],
      "metadata": {
        "id": "HBjB739bUVVD"
      }
    },
    {
      "cell_type": "markdown",
      "source": [
        "**2. RGB**"
      ],
      "metadata": {
        "id": "D5EJTIH0ZYf4"
      }
    },
    {
      "cell_type": "code",
      "source": [
        "# Example: Unsqueeze a tensor\n",
        "input_tensor = torch.randn([32, 3, 28, 28], dtype=torch.float)\n",
        "print(\"Original batch size:\", input_tensor.size())\n",
        "\n",
        "first_tensor = input_tensor[0]\n",
        "print(\"Size before unsqueeze: \", first_tensor.shape)\n",
        "\n",
        "# unsqueeze_tensor_0 = torch.unsqueeze(x, 0)\n",
        "unsqueeze_tensor_0 = first_tensor.unsqueeze(dim=0)\n",
        "print(\"Size after unsqueeze at dim 0: \", unsqueeze_tensor_0.size())\n",
        "\n",
        "# unsqueeze_tensor_1 = torch.unsqueeze(x, 1)\n",
        "unsqueeze_tensor_1 = first_tensor.unsqueeze(dim=1)\n",
        "print(\"Size after unsqueeze at dim 1: \", unsqueeze_tensor_1.size())\n",
        "\n",
        "# unsqueeze_tensor_1 = torch.unsqueeze(x, 1)\n",
        "unsqueeze_tensor_2 = first_tensor.unsqueeze(dim=2)\n",
        "print(\"Size after unsqueeze at dim 1: \", unsqueeze_tensor_2.size())"
      ],
      "metadata": {
        "colab": {
          "base_uri": "https://localhost:8080/"
        },
        "id": "AmO_5VJWTGrj",
        "outputId": "aaed8ee7-04dc-495c-b074-96639029fcb6"
      },
      "execution_count": 3,
      "outputs": [
        {
          "output_type": "stream",
          "name": "stdout",
          "text": [
            "Original batch size: torch.Size([32, 3, 28, 28])\n",
            "Size before unsqueeze:  torch.Size([3, 28, 28])\n",
            "Size after unsqueeze at dim 0:  torch.Size([1, 3, 28, 28])\n",
            "Size after unsqueeze at dim 1:  torch.Size([3, 1, 28, 28])\n",
            "Size after unsqueeze at dim 1:  torch.Size([3, 28, 1, 28])\n"
          ]
        }
      ]
    },
    {
      "cell_type": "markdown",
      "source": [
        "### `argmax()`\n",
        "\n",
        "- To get the indices of the maximum values"
      ],
      "metadata": {
        "id": "P56F_ApeeYQH"
      }
    },
    {
      "cell_type": "code",
      "source": [
        "import torch\n",
        "\n",
        "# Simulated output scores from a neural network for 3 classes (cat, dog, bird)\n",
        "y_pred = torch.tensor([[1.2, 0.9, 0.3, 0.4],\n",
        "                       [0.2, 2.1, 1.8, 3.1],\n",
        "                       [0.1, 1.5, 2.2, 2.1]])\n",
        "\n",
        "# Applying argmax to get the indices of the maximum values along dimension\n",
        "predicted_classes_0 = torch.argmax(y_pred, dim=0) # Applies argmax along dimension 0, which refers to the columns\n",
        "predicted_classes_1 = torch.argmax(y_pred, dim=1) # Applies argmax along dimension 1, referring to the rows\n",
        "\n",
        "print(predicted_classes_0)\n",
        "print(predicted_classes_1)"
      ],
      "metadata": {
        "colab": {
          "base_uri": "https://localhost:8080/"
        },
        "id": "ZsJUeTF4eadO",
        "outputId": "7a21cb59-3f6c-4d3a-8164-9ea8f842daa9"
      },
      "execution_count": 7,
      "outputs": [
        {
          "output_type": "stream",
          "name": "stdout",
          "text": [
            "tensor([0, 1, 2, 1])\n",
            "tensor([0, 3, 2])\n"
          ]
        }
      ]
    },
    {
      "cell_type": "markdown",
      "source": [
        "### **`torch.cat()`**\n",
        "\n",
        "- Concatenating tensors along a specified dimension."
      ],
      "metadata": {
        "id": "nWcx_QWneV80"
      }
    },
    {
      "cell_type": "code",
      "source": [
        "import torch\n",
        "\n",
        "# Create two tensors\n",
        "tensor1 = torch.tensor([[1, 2], [3, 4]])\n",
        "tensor2 = torch.tensor([[5, 6], [7, 8]])\n",
        "\n",
        "# Concatenate along dimension 0 (rows)\n",
        "concatenated_tensor = torch.cat((tensor1, tensor2), dim=0)\n",
        "print(\"Concatenated tensor along dimension 0:\\n\", concatenated_tensor)\n",
        "\n",
        "# Concatenate along dimension 1 (columns)\n",
        "concatenated_tensor_dim1 = torch.cat((tensor1, tensor2), dim=1)\n",
        "print(\"Concatenated tensor along dimension 1:\\n\", concatenated_tensor_dim1)"
      ],
      "metadata": {
        "colab": {
          "base_uri": "https://localhost:8080/"
        },
        "id": "P87kD6FBeRh1",
        "outputId": "8a1ada28-baab-46f3-9f07-f5c5641671f4"
      },
      "execution_count": 13,
      "outputs": [
        {
          "output_type": "stream",
          "name": "stdout",
          "text": [
            "Concatenated tensor along dimension 0:\n",
            " tensor([[1, 2],\n",
            "        [3, 4],\n",
            "        [5, 6],\n",
            "        [7, 8]])\n",
            "Concatenated tensor along dimension 1:\n",
            " tensor([[1, 2, 5, 6],\n",
            "        [3, 4, 7, 8]])\n"
          ]
        }
      ]
    },
    {
      "cell_type": "markdown",
      "source": [
        "### **`torch.flatten()`**"
      ],
      "metadata": {
        "id": "h1l6DP4tf83t"
      }
    },
    {
      "cell_type": "code",
      "source": [
        "import torch\n",
        "\n",
        "# Create two tensors\n",
        "tensor1 = torch.tensor([[1, 2], [3, 4]])\n",
        "tensor2 = torch.tensor([[5, 6], [7, 8]])\n",
        "\n",
        "# Assuming concatenated_tensor_dim1 is already defined from the previous example\n",
        "concatenated_tensor_dim0 = torch.cat((tensor1, tensor2), dim=0)\n",
        "concatenated_tensor_dim1 = torch.cat((tensor1, tensor2), dim=1)\n",
        "\n",
        "# Flatten the concatenated tensor\n",
        "flat_tensor0 = torch.flatten(concatenated_tensor_dim0)\n",
        "flat_tensor1 = torch.flatten(concatenated_tensor_dim1)\n",
        "\n",
        "print(\"Flattened tensor 0:\\n\", flat_tensor0)\n",
        "print(\"Flattened tensor 1:\\n\", flat_tensor1)"
      ],
      "metadata": {
        "colab": {
          "base_uri": "https://localhost:8080/"
        },
        "id": "vIEFjqJGfgjN",
        "outputId": "0927289c-40f3-4a8e-cc7f-8d3b361fe53e"
      },
      "execution_count": 21,
      "outputs": [
        {
          "output_type": "stream",
          "name": "stdout",
          "text": [
            "Flattened tensor 0:\n",
            " tensor([1, 2, 3, 4, 5, 6, 7, 8])\n",
            "Flattened tensor 1:\n",
            " tensor([1, 2, 5, 6, 3, 4, 7, 8])\n"
          ]
        }
      ]
    },
    {
      "cell_type": "markdown",
      "source": [
        "### **`torch.stack()`**"
      ],
      "metadata": {
        "id": "RCUFq_wvXOEP"
      }
    },
    {
      "cell_type": "code",
      "source": [
        "import torch\n",
        "\n",
        "# Create two tensors\n",
        "tensor1 = torch.tensor([[1, 2], [3, 4]])\n",
        "tensor2 = torch.tensor([[5, 6], [7, 8]])\n",
        "\n",
        "# Stack tensors along a new dimension (dimension 0)\n",
        "stacked_tensor0 = torch.stack((tensor1, tensor2), dim=0)\n",
        "stacked_tensor1 = torch.stack((tensor1, tensor2), dim=1)\n",
        "\n",
        "print(\"Stacked tensor along dimension 0:\\n\", stacked_tensor0)\n",
        "print(\"\\n\")\n",
        "print(\"Stacked tensor along dimension 1:\\n\", stacked_tensor1)"
      ],
      "metadata": {
        "id": "_pj7Dbg6gIZ2",
        "colab": {
          "base_uri": "https://localhost:8080/"
        },
        "outputId": "5b2f592a-57a6-4e71-c99c-d8c59eefdcfb"
      },
      "execution_count": 25,
      "outputs": [
        {
          "output_type": "stream",
          "name": "stdout",
          "text": [
            "Stacked tensor along dimension 0:\n",
            " tensor([[[1, 2],\n",
            "         [3, 4]],\n",
            "\n",
            "        [[5, 6],\n",
            "         [7, 8]]])\n",
            "\n",
            "\n",
            "Stacked tensor along dimension 1:\n",
            " tensor([[[1, 2],\n",
            "         [5, 6]],\n",
            "\n",
            "        [[3, 4],\n",
            "         [7, 8]]])\n"
          ]
        }
      ]
    },
    {
      "cell_type": "code",
      "source": [],
      "metadata": {
        "id": "QPF6TQSvikFu"
      },
      "execution_count": null,
      "outputs": []
    }
  ]
}