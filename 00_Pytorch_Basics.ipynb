{
  "nbformat": 4,
  "nbformat_minor": 0,
  "metadata": {
    "colab": {
      "provenance": []
    },
    "kernelspec": {
      "name": "python3",
      "display_name": "Python 3"
    },
    "language_info": {
      "name": "python"
    }
  },
  "cells": [
    {
      "cell_type": "markdown",
      "source": [
        "### **`squeeze()`**"
      ],
      "metadata": {
        "id": "25XoNByYU8X0"
      }
    },
    {
      "cell_type": "code",
      "source": [
        "import torch\n",
        "\n",
        "input_tensor = torch.randn([32, 1, 28, 28], dtype=torch.float)\n",
        "print(\"Original size:\", input_tensor.size())\n",
        "\n",
        "squeezed_tensor = torch.squeeze(input_tensor)\n",
        "print(\"Size after squeeze:\", squeezed_tensor.size())"
      ],
      "metadata": {
        "colab": {
          "base_uri": "https://localhost:8080/"
        },
        "id": "4gVhw_NNVMKM",
        "outputId": "3911fdb4-3035-4c74-8a49-beb367bb4a91"
      },
      "execution_count": 24,
      "outputs": [
        {
          "output_type": "stream",
          "name": "stdout",
          "text": [
            "Original size: torch.Size([32, 1, 28, 28])\n",
            "Size after squeeze: torch.Size([32, 28, 28])\n"
          ]
        }
      ]
    },
    {
      "cell_type": "markdown",
      "source": [
        "### **`unsqueeze()`**"
      ],
      "metadata": {
        "id": "cfeVn9J1YSJy"
      }
    },
    {
      "cell_type": "markdown",
      "source": [
        "**1. Grey Scale**"
      ],
      "metadata": {
        "id": "kewpofiKZR4R"
      }
    },
    {
      "cell_type": "code",
      "source": [
        "input_tensor = torch.randn([32, 1, 28, 28], dtype=torch.float)\n",
        "print(\"Original size:\", input_tensor.size())\n",
        "\n",
        "first_tensor = input_tensor[0]\n",
        "print(\"Size before unsqueeze: \",first_tensor.shape)\n",
        "\n",
        "# unsqueeze_tensor_0 = torch.unsqueeze(x, 0)\n",
        "unsqueeze_tensor_0 = first_tensor.unsqueeze(0)\n",
        "print(\"Size after unsqueeze at dim 0: \", unsqueeze_tensor_0.size())\n",
        "\n",
        "# unsqueeze_tensor_1 = torch.unsqueeze(x, 1)\n",
        "unsqueeze_tensor_1 = first_tensor.unsqueeze(1)\n",
        "print(\"Size after unsqueeze at dim 1: \", unsqueeze_tensor_1.size())"
      ],
      "metadata": {
        "colab": {
          "base_uri": "https://localhost:8080/"
        },
        "id": "tvyM7oqpVUcl",
        "outputId": "eea4b661-8c31-4b7d-d078-4c18526e238d"
      },
      "execution_count": 30,
      "outputs": [
        {
          "output_type": "stream",
          "name": "stdout",
          "text": [
            "Original size: torch.Size([32, 1, 28, 28])\n",
            "torch.Size([1, 28, 28])\n",
            "Size after unsqueeze at dim 0: torch.Size([1, 1, 28, 28])\n",
            "Size after unsqueeze at dim 1: torch.Size([1, 1, 28, 28])\n"
          ]
        }
      ]
    },
    {
      "cell_type": "markdown",
      "source": [
        "The bottom two results are the same because both are adding a single batch dimension to a single-channel image. If first_tensor had more than one channel, the results of unsqueezing at different dimensions would be different. For example, if first_tensor was `[3, 28, 28]` (representing an `RGB` image), unsqueezing at dim 0 would result in `[1, 3, 28, 28]`, while unsqueezing at dim 1 would result in `[3, 1, 28, 28]`"
      ],
      "metadata": {
        "id": "YTn6oh-1X-qI"
      }
    },
    {
      "cell_type": "markdown",
      "source": [
        "**Note:** `unsqueeze_tensor_2 = x.unsqueeze(2)`\n",
        "\n",
        "- This will raise an IndexError as we are attemptting to unsqueeze the tensor at a dimension index that doesn’t exist for the given tensor."
      ],
      "metadata": {
        "id": "HBjB739bUVVD"
      }
    },
    {
      "cell_type": "markdown",
      "source": [
        "**2. RGB**"
      ],
      "metadata": {
        "id": "D5EJTIH0ZYf4"
      }
    },
    {
      "cell_type": "code",
      "source": [
        "# Example: Unsqueeze a tensor\n",
        "input_tensor = torch.randn([32, 3, 28, 28], dtype=torch.float)\n",
        "print(\"Original batch size:\", input_tensor.size())\n",
        "\n",
        "first_tensor = input_tensor[0]\n",
        "print(\"Size before unsqueeze: \", first_tensor.shape)\n",
        "\n",
        "# unsqueeze_tensor_0 = torch.unsqueeze(x, 0)\n",
        "unsqueeze_tensor_0 = first_tensor.unsqueeze(0)\n",
        "print(\"Size after unsqueeze at dim 0: \", unsqueeze_tensor_0.size())\n",
        "\n",
        "# unsqueeze_tensor_1 = torch.unsqueeze(x, 1)\n",
        "unsqueeze_tensor_1 = first_tensor.unsqueeze(1)\n",
        "print(\"Size after unsqueeze at dim 1: \", unsqueeze_tensor_1.size())\n",
        "\n",
        "# unsqueeze_tensor_1 = torch.unsqueeze(x, 1)\n",
        "unsqueeze_tensor_2 = first_tensor.unsqueeze(2)\n",
        "print(\"Size after unsqueeze at dim 1: \", unsqueeze_tensor_2.size())"
      ],
      "metadata": {
        "colab": {
          "base_uri": "https://localhost:8080/"
        },
        "id": "AmO_5VJWTGrj",
        "outputId": "10fde396-226b-4a7b-cd68-1579261b1e67"
      },
      "execution_count": 35,
      "outputs": [
        {
          "output_type": "stream",
          "name": "stdout",
          "text": [
            "Original batch size: torch.Size([32, 3, 28, 28])\n",
            "Size before unsqueeze torch.Size([3, 28, 28])\n",
            "Size after unsqueeze at dim 0: torch.Size([1, 3, 28, 28])\n",
            "Size after unsqueeze at dim 1: torch.Size([3, 1, 28, 28])\n",
            "Size after unsqueeze at dim 1: torch.Size([3, 28, 1, 28])\n"
          ]
        }
      ]
    },
    {
      "cell_type": "code",
      "source": [],
      "metadata": {
        "id": "5pWuo9J9Y9Gk"
      },
      "execution_count": null,
      "outputs": []
    }
  ]
}