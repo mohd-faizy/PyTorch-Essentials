{
  "nbformat": 4,
  "nbformat_minor": 0,
  "metadata": {
    "colab": {
      "provenance": [],
      "toc_visible": true
    },
    "kernelspec": {
      "name": "python3",
      "display_name": "Python 3"
    },
    "language_info": {
      "name": "python"
    }
  },
  "cells": [
    {
      "cell_type": "markdown",
      "source": [
        "- `dim = 0`, which refers to the `columns` $\\downarrow$\n",
        "\n",
        "- `dim = 1`, which refers to the `rows` $\\rightarrow$"
      ],
      "metadata": {
        "id": "i1XgIe4jjxn2"
      }
    },
    {
      "cell_type": "markdown",
      "source": [
        "### **`torch.tensor()`**"
      ],
      "metadata": {
        "id": "kPDLO85bbkU0"
      }
    },
    {
      "cell_type": "markdown",
      "source": [
        "![tensor](https://static.javatpoint.com/tutorial/pytorch/images/pytorch-tensors.png)\n",
        "\n",
        "\n",
        "<br></br>\n",
        "\n",
        "![tensor](https://editor.analyticsvidhya.com/uploads/64798tensor.png)"
      ],
      "metadata": {
        "id": "IwYii_X5d8rz"
      }
    },
    {
      "cell_type": "code",
      "source": [
        "import torch\n",
        "\n",
        "# 0-dimensional tensor (scalar)\n",
        "scalar_tensor = torch.tensor(42)\n",
        "print(\"Scalar tensor:\", scalar_tensor)\n",
        "print(\"Dimensions:\", scalar_tensor.dim())\n",
        "\n",
        "# 1-dimensional tensor (vector)\n",
        "vector_tensor = torch.tensor([1, 2, 3, 4])\n",
        "print(\"\\nVector tensor:\", vector_tensor)\n",
        "print(\"Dimensions:\", vector_tensor.dim())\n",
        "\n",
        "# 2-dimensional tensor (matrix)\n",
        "matrix_tensor = torch.tensor([[1, 2], [3, 4], [5, 6]])\n",
        "print(\"\\nMatrix tensor:\")\n",
        "print(matrix_tensor)\n",
        "print(\"Dimensions:\", matrix_tensor.dim())\n",
        "\n",
        "# 3-dimensional tensor\n",
        "tensor_3d = torch.tensor([[[1, 2], [3, 4]], [[5, 6], [7, 8]]])\n",
        "print(\"\\n3D tensor:\")\n",
        "print(tensor_3d)\n",
        "print(\"Dimensions:\", tensor_3d.dim())\n",
        "\n",
        "# 4-dimensional tensor\n",
        "tensor_4d = torch.tensor([[[[1, 2], [3, 4]], [[5, 6], [7, 8]]], [[[9, 10], [11, 12]], [[13, 14], [15, 16]]]])\n",
        "print(\"\\n4D tensor:\")\n",
        "print(tensor_4d)\n",
        "print(\"Dimensions:\", tensor_4d.dim())\n"
      ],
      "metadata": {
        "colab": {
          "base_uri": "https://localhost:8080/"
        },
        "id": "UBAmNkujbuJM",
        "outputId": "4c6b7cb3-116b-4e7a-c1e0-742eb3d8f4c5"
      },
      "execution_count": 1,
      "outputs": [
        {
          "output_type": "stream",
          "name": "stdout",
          "text": [
            "Scalar tensor: tensor(42)\n",
            "Dimensions: 0\n",
            "\n",
            "Vector tensor: tensor([1, 2, 3, 4])\n",
            "Dimensions: 1\n",
            "\n",
            "Matrix tensor:\n",
            "tensor([[1, 2],\n",
            "        [3, 4],\n",
            "        [5, 6]])\n",
            "Dimensions: 2\n",
            "\n",
            "3D tensor:\n",
            "tensor([[[1, 2],\n",
            "         [3, 4]],\n",
            "\n",
            "        [[5, 6],\n",
            "         [7, 8]]])\n",
            "Dimensions: 3\n",
            "\n",
            "4D tensor:\n",
            "tensor([[[[ 1,  2],\n",
            "          [ 3,  4]],\n",
            "\n",
            "         [[ 5,  6],\n",
            "          [ 7,  8]]],\n",
            "\n",
            "\n",
            "        [[[ 9, 10],\n",
            "          [11, 12]],\n",
            "\n",
            "         [[13, 14],\n",
            "          [15, 16]]]])\n",
            "Dimensions: 4\n"
          ]
        }
      ]
    },
    {
      "cell_type": "markdown",
      "source": [
        "### **`torch.squeeze()`**\n",
        "\n",
        "Remove dimensions of size 1 from the shape of a tensor."
      ],
      "metadata": {
        "id": "25XoNByYU8X0"
      }
    },
    {
      "cell_type": "code",
      "source": [
        "import torch\n",
        "\n",
        "# Create the input tensor\n",
        "input_tensor = torch.randn([32, 1, 28, 28], dtype=torch.float)\n",
        "\n",
        "# Squeeze the tensor along dimension 0\n",
        "squeezed_tensor = torch.squeeze(input_tensor, dim=0)\n",
        "\n",
        "print(\"Original tensor shape:\", input_tensor.shape)\n",
        "print(\"Squeezed tensor shape:\", squeezed_tensor.shape)\n"
      ],
      "metadata": {
        "colab": {
          "base_uri": "https://localhost:8080/"
        },
        "id": "Xx3EIJQhnvWg",
        "outputId": "82ffd6e0-30a5-4d7d-9d7b-dec7678b6140"
      },
      "execution_count": 2,
      "outputs": [
        {
          "output_type": "stream",
          "name": "stdout",
          "text": [
            "Original tensor shape: torch.Size([32, 1, 28, 28])\n",
            "Squeezed tensor shape: torch.Size([32, 1, 28, 28])\n"
          ]
        }
      ]
    },
    {
      "cell_type": "code",
      "source": [
        "import torch\n",
        "\n",
        "# Create the input tensor\n",
        "input_tensor = torch.randn([32, 1, 28, 28], dtype=torch.float)\n",
        "\n",
        "# Squeeze the tensor along dimension 1\n",
        "squeezed_tensor = torch.squeeze(input_tensor, dim=1)\n",
        "\n",
        "print(\"Original tensor shape:\", input_tensor.shape)\n",
        "print(\"Squeezed tensor shape:\", squeezed_tensor.shape)\n"
      ],
      "metadata": {
        "colab": {
          "base_uri": "https://localhost:8080/"
        },
        "id": "4gVhw_NNVMKM",
        "outputId": "ee777dc8-092a-4702-92eb-85b48249e111"
      },
      "execution_count": 3,
      "outputs": [
        {
          "output_type": "stream",
          "name": "stdout",
          "text": [
            "Original tensor shape: torch.Size([32, 1, 28, 28])\n",
            "Squeezed tensor shape: torch.Size([32, 28, 28])\n"
          ]
        }
      ]
    },
    {
      "cell_type": "code",
      "source": [
        "import torch\n",
        "\n",
        "x = torch.randn(1, 2, 3, 4)\n",
        "squeezed_x = torch.squeeze(x, dim=0)\n",
        "print(squeezed_x.shape)"
      ],
      "metadata": {
        "colab": {
          "base_uri": "https://localhost:8080/"
        },
        "id": "trmb27Q9oa9v",
        "outputId": "68b40a8b-e998-45f1-8684-8f8b1145da05"
      },
      "execution_count": 4,
      "outputs": [
        {
          "output_type": "stream",
          "name": "stdout",
          "text": [
            "torch.Size([2, 3, 4])\n"
          ]
        }
      ]
    },
    {
      "cell_type": "markdown",
      "source": [
        "### **`torch.unsqueeze()`**\n",
        "\n",
        "This function directly available in `TensorFlow`. However, in other frameworks like `PyTorch`, unsqueeze is used to add a dimension of size 1 at a specified axis. In `TensorFlow`, a similar effect can be achieved using `tf.expand_dims`."
      ],
      "metadata": {
        "id": "cfeVn9J1YSJy"
      }
    },
    {
      "cell_type": "markdown",
      "source": [
        "**1. Grey Scale**"
      ],
      "metadata": {
        "id": "kewpofiKZR4R"
      }
    },
    {
      "cell_type": "code",
      "source": [
        "input_tensor = torch.randn([32, 1, 28, 28], dtype=torch.float)\n",
        "print(\"Original size:\", input_tensor.size())\n",
        "\n",
        "first_tensor = input_tensor[0]\n",
        "print(\"Size before unsqueeze: \",first_tensor.shape)\n",
        "\n",
        "# unsqueeze_tensor_0 = torch.unsqueeze(x, 0)\n",
        "unsqueeze_tensor_0 = first_tensor.unsqueeze(dim=0)\n",
        "print(\"Size after unsqueeze at dim 0: \", unsqueeze_tensor_0.size())\n",
        "\n",
        "# unsqueeze_tensor_1 = torch.unsqueeze(x, 1)\n",
        "unsqueeze_tensor_1 = first_tensor.unsqueeze(dim=1)\n",
        "print(\"Size after unsqueeze at dim 1: \", unsqueeze_tensor_1.size())"
      ],
      "metadata": {
        "colab": {
          "base_uri": "https://localhost:8080/"
        },
        "id": "tvyM7oqpVUcl",
        "outputId": "c1599a2f-93c9-46b4-cb90-601d0f8330e1"
      },
      "execution_count": 5,
      "outputs": [
        {
          "output_type": "stream",
          "name": "stdout",
          "text": [
            "Original size: torch.Size([32, 1, 28, 28])\n",
            "Size before unsqueeze:  torch.Size([1, 28, 28])\n",
            "Size after unsqueeze at dim 0:  torch.Size([1, 1, 28, 28])\n",
            "Size after unsqueeze at dim 1:  torch.Size([1, 1, 28, 28])\n"
          ]
        }
      ]
    },
    {
      "cell_type": "markdown",
      "source": [
        "The bottom two results are the same because both are adding a single batch dimension to a single-channel image. If first_tensor had more than one channel, the results of unsqueezing at different dimensions would be different. For example, if first_tensor was `[3, 28, 28]` (representing an `RGB` image), unsqueezing at dim 0 would result in `[1, 3, 28, 28]`, while unsqueezing at dim 1 would result in `[3, 1, 28, 28]`"
      ],
      "metadata": {
        "id": "YTn6oh-1X-qI"
      }
    },
    {
      "cell_type": "markdown",
      "source": [
        "**Note:** `unsqueeze_tensor_2 = x.unsqueeze(2)`\n",
        "\n",
        "- This will raise an IndexError as we are attemptting to unsqueeze the tensor at a dimension index that doesn’t exist for the given tensor."
      ],
      "metadata": {
        "id": "HBjB739bUVVD"
      }
    },
    {
      "cell_type": "markdown",
      "source": [
        "**2. RGB**"
      ],
      "metadata": {
        "id": "D5EJTIH0ZYf4"
      }
    },
    {
      "cell_type": "code",
      "source": [
        "# Example: Unsqueeze a tensor\n",
        "input_tensor = torch.randn([32, 3, 28, 28], dtype=torch.float)\n",
        "print(\"Original batch size:\", input_tensor.size())\n",
        "\n",
        "first_tensor = input_tensor[0]\n",
        "print(\"Size before unsqueeze: \", first_tensor.shape)\n",
        "\n",
        "# unsqueeze_tensor_0 = torch.unsqueeze(x, 0)\n",
        "unsqueeze_tensor_0 = first_tensor.unsqueeze(dim=0)\n",
        "print(\"Size after unsqueeze at dim 0: \", unsqueeze_tensor_0.size())\n",
        "\n",
        "# unsqueeze_tensor_1 = torch.unsqueeze(x, 1)\n",
        "unsqueeze_tensor_1 = first_tensor.unsqueeze(dim=1)\n",
        "print(\"Size after unsqueeze at dim 1: \", unsqueeze_tensor_1.size())\n",
        "\n",
        "# unsqueeze_tensor_1 = torch.unsqueeze(x, 1)\n",
        "unsqueeze_tensor_2 = first_tensor.unsqueeze(dim=2)\n",
        "print(\"Size after unsqueeze at dim 1: \", unsqueeze_tensor_2.size())"
      ],
      "metadata": {
        "colab": {
          "base_uri": "https://localhost:8080/"
        },
        "id": "AmO_5VJWTGrj",
        "outputId": "2e99b4e2-6f08-4c45-d3a5-5064a922b431"
      },
      "execution_count": 6,
      "outputs": [
        {
          "output_type": "stream",
          "name": "stdout",
          "text": [
            "Original batch size: torch.Size([32, 3, 28, 28])\n",
            "Size before unsqueeze:  torch.Size([3, 28, 28])\n",
            "Size after unsqueeze at dim 0:  torch.Size([1, 3, 28, 28])\n",
            "Size after unsqueeze at dim 1:  torch.Size([3, 1, 28, 28])\n",
            "Size after unsqueeze at dim 1:  torch.Size([3, 28, 1, 28])\n"
          ]
        }
      ]
    },
    {
      "cell_type": "markdown",
      "source": [
        "### `argmax()`\n",
        "\n",
        "- To get the indices of the maximum values"
      ],
      "metadata": {
        "id": "P56F_ApeeYQH"
      }
    },
    {
      "cell_type": "code",
      "source": [
        "import torch\n",
        "\n",
        "# Simulated output scores from a neural network for 3 classes (cat, dog, bird)\n",
        "y_pred = torch.tensor([[1.2, 0.9, 0.3, 0.4],\n",
        "                       [0.2, 2.1, 1.8, 3.1],\n",
        "                       [0.1, 1.5, 2.2, 2.1]])\n",
        "\n",
        "# Applying argmax to get the indices of the maximum values along dimension\n",
        "predicted_classes_0 = torch.argmax(y_pred, dim=0) # Applies argmax along dimension 0, which refers to the columns\n",
        "predicted_classes_1 = torch.argmax(y_pred, dim=1) # Applies argmax along dimension 1, referring to the rows\n",
        "\n",
        "print(predicted_classes_0)\n",
        "print(predicted_classes_1)"
      ],
      "metadata": {
        "colab": {
          "base_uri": "https://localhost:8080/"
        },
        "id": "ZsJUeTF4eadO",
        "outputId": "69736167-47c9-494d-ab51-9a0520a064c2"
      },
      "execution_count": 7,
      "outputs": [
        {
          "output_type": "stream",
          "name": "stdout",
          "text": [
            "tensor([0, 1, 2, 1])\n",
            "tensor([0, 3, 2])\n"
          ]
        }
      ]
    },
    {
      "cell_type": "markdown",
      "source": [
        "### **`torch.cat()`**\n",
        "\n",
        "- Concatenating tensors along a specified dimension."
      ],
      "metadata": {
        "id": "nWcx_QWneV80"
      }
    },
    {
      "cell_type": "code",
      "source": [
        "import torch\n",
        "\n",
        "# Create two tensors\n",
        "tensor1 = torch.tensor([[1, 2], [3, 4]])\n",
        "tensor2 = torch.tensor([[5, 6], [7, 8]])\n",
        "\n",
        "# Concatenate along dimension 0 (rows)\n",
        "concatenated_tensor = torch.cat((tensor1, tensor2), dim=0)\n",
        "print(\"Concatenated tensor along dimension 0:\\n\", concatenated_tensor)\n",
        "\n",
        "# Concatenate along dimension 1 (columns)\n",
        "concatenated_tensor_dim1 = torch.cat((tensor1, tensor2), dim=1)\n",
        "print(\"Concatenated tensor along dimension 1:\\n\", concatenated_tensor_dim1)"
      ],
      "metadata": {
        "colab": {
          "base_uri": "https://localhost:8080/"
        },
        "id": "P87kD6FBeRh1",
        "outputId": "81293103-76a1-4c77-a9c5-0ffeb6ca0e58"
      },
      "execution_count": 8,
      "outputs": [
        {
          "output_type": "stream",
          "name": "stdout",
          "text": [
            "Concatenated tensor along dimension 0:\n",
            " tensor([[1, 2],\n",
            "        [3, 4],\n",
            "        [5, 6],\n",
            "        [7, 8]])\n",
            "Concatenated tensor along dimension 1:\n",
            " tensor([[1, 2, 5, 6],\n",
            "        [3, 4, 7, 8]])\n"
          ]
        }
      ]
    },
    {
      "cell_type": "markdown",
      "source": [
        "### **`torch.flatten()`**"
      ],
      "metadata": {
        "id": "h1l6DP4tf83t"
      }
    },
    {
      "cell_type": "code",
      "source": [
        "import torch\n",
        "\n",
        "# Create two tensors\n",
        "tensor1 = torch.tensor([[1, 2], [3, 4]])\n",
        "tensor2 = torch.tensor([[5, 6], [7, 8]])\n",
        "\n",
        "# Assuming concatenated_tensor_dim1 is already defined from the previous example\n",
        "concatenated_tensor_dim0 = torch.cat((tensor1, tensor2), dim=0)\n",
        "concatenated_tensor_dim1 = torch.cat((tensor1, tensor2), dim=1)\n",
        "\n",
        "# Flatten the concatenated tensor\n",
        "flat_tensor0 = torch.flatten(concatenated_tensor_dim0)\n",
        "flat_tensor1 = torch.flatten(concatenated_tensor_dim1)\n",
        "\n",
        "print(\"Flattened tensor 0:\\n\", flat_tensor0)\n",
        "print(\"Flattened tensor 1:\\n\", flat_tensor1)"
      ],
      "metadata": {
        "colab": {
          "base_uri": "https://localhost:8080/"
        },
        "id": "vIEFjqJGfgjN",
        "outputId": "bad7b578-52f3-4603-90df-92ac47d803b3"
      },
      "execution_count": 9,
      "outputs": [
        {
          "output_type": "stream",
          "name": "stdout",
          "text": [
            "Flattened tensor 0:\n",
            " tensor([1, 2, 3, 4, 5, 6, 7, 8])\n",
            "Flattened tensor 1:\n",
            " tensor([1, 2, 5, 6, 3, 4, 7, 8])\n"
          ]
        }
      ]
    },
    {
      "cell_type": "markdown",
      "source": [
        "### **`torch.stack()`**"
      ],
      "metadata": {
        "id": "RCUFq_wvXOEP"
      }
    },
    {
      "cell_type": "code",
      "source": [
        "import torch\n",
        "\n",
        "# Create two tensors\n",
        "tensor1 = torch.tensor([[1, 2], [3, 4]])\n",
        "tensor2 = torch.tensor([[5, 6], [7, 8]])\n",
        "\n",
        "# Stack tensors along a new dimension (dimension 0)\n",
        "stacked_tensor0 = torch.stack((tensor1, tensor2), dim=0)\n",
        "stacked_tensor1 = torch.stack((tensor1, tensor2), dim=1)\n",
        "\n",
        "print(\"Stacked tensor along dimension 0:\\n\", stacked_tensor0)\n",
        "print(\"\\n\")\n",
        "print(\"Stacked tensor along dimension 1:\\n\", stacked_tensor1)"
      ],
      "metadata": {
        "id": "_pj7Dbg6gIZ2",
        "colab": {
          "base_uri": "https://localhost:8080/"
        },
        "outputId": "64039e89-821f-4da5-f70a-0ecebabf97ef"
      },
      "execution_count": 10,
      "outputs": [
        {
          "output_type": "stream",
          "name": "stdout",
          "text": [
            "Stacked tensor along dimension 0:\n",
            " tensor([[[1, 2],\n",
            "         [3, 4]],\n",
            "\n",
            "        [[5, 6],\n",
            "         [7, 8]]])\n",
            "\n",
            "\n",
            "Stacked tensor along dimension 1:\n",
            " tensor([[[1, 2],\n",
            "         [5, 6]],\n",
            "\n",
            "        [[3, 4],\n",
            "         [7, 8]]])\n"
          ]
        }
      ]
    },
    {
      "cell_type": "markdown",
      "source": [
        "### `torch.isclose()` & `torch.eq()`"
      ],
      "metadata": {
        "id": "VjqRycSTdudR"
      }
    },
    {
      "cell_type": "code",
      "source": [
        "import torch\n",
        "\n",
        "# Define two tensors\n",
        "tensor1 = torch.tensor([1.0, 2.0, 3.0])\n",
        "tensor2 = torch.tensor([1.1, 2.2, 3.3])\n",
        "\n",
        "# Check if the tensors are close within a tolerance of 0.2\n",
        "close_tensors = torch.isclose(tensor1, tensor2, atol=0.2)\n",
        "\n",
        "print(close_tensors)"
      ],
      "metadata": {
        "colab": {
          "base_uri": "https://localhost:8080/"
        },
        "id": "vERAUpqedgML",
        "outputId": "684fe92b-ac90-4174-fadf-7b97c1f77fc4"
      },
      "execution_count": 11,
      "outputs": [
        {
          "output_type": "stream",
          "name": "stdout",
          "text": [
            "tensor([ True,  True, False])\n"
          ]
        }
      ]
    },
    {
      "cell_type": "code",
      "source": [
        "import torch\n",
        "\n",
        "# Define two tensors\n",
        "tensor1 = torch.tensor([1, 2, 3])\n",
        "tensor2 = torch.tensor([1, 2, 4])\n",
        "\n",
        "# Check for exact equality\n",
        "equal_tensors = torch.eq(tensor1, tensor2)\n",
        "\n",
        "print(equal_tensors)"
      ],
      "metadata": {
        "colab": {
          "base_uri": "https://localhost:8080/"
        },
        "id": "LXHjlirndrLC",
        "outputId": "45681644-d440-4f85-93f6-83ba0c13c463"
      },
      "execution_count": 12,
      "outputs": [
        {
          "output_type": "stream",
          "name": "stdout",
          "text": [
            "tensor([ True,  True, False])\n"
          ]
        }
      ]
    },
    {
      "cell_type": "markdown",
      "source": [
        ">NOTE: Unlike `torch.isclose`, `torch.eq` does not have a `tolerance` parameter because it strictly checks for exact equality. It's useful when you need to perform element-wise comparisons where exact matches are required."
      ],
      "metadata": {
        "id": "348RL3qfd7gC"
      }
    },
    {
      "cell_type": "code",
      "source": [
        "import torch\n",
        "\n",
        "# Define two tensors\n",
        "tensor1 = torch.tensor([1.001, 2.002, 3.003])\n",
        "tensor2 = torch.tensor([1.0, 2.0, 3.0])\n",
        "\n",
        "# Check for approximate equality with tolerance\n",
        "close_tensors = torch.isclose(tensor1, tensor2, atol=0.01)\n",
        "\n",
        "# Check for exact equality\n",
        "equal_tensors = torch.eq(tensor1, tensor2)\n",
        "\n",
        "print(\"Approximate equality with tolerance:\")\n",
        "print(close_tensors)\n",
        "\n",
        "print(\"\\nExact equality:\")\n",
        "print(equal_tensors)\n"
      ],
      "metadata": {
        "colab": {
          "base_uri": "https://localhost:8080/"
        },
        "id": "iPJ0xQL0eMfp",
        "outputId": "5b947e07-2e30-4ff7-d4de-38c00495c754"
      },
      "execution_count": 13,
      "outputs": [
        {
          "output_type": "stream",
          "name": "stdout",
          "text": [
            "Approximate equality with tolerance:\n",
            "tensor([True, True, True])\n",
            "\n",
            "Exact equality:\n",
            "tensor([False, False, False])\n"
          ]
        }
      ]
    }
  ]
}